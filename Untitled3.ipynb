{
  "nbformat": 4,
  "nbformat_minor": 0,
  "metadata": {
    "colab": {
      "provenance": []
    },
    "kernelspec": {
      "name": "python3",
      "display_name": "Python 3"
    },
    "language_info": {
      "name": "python"
    }
  },
  "cells": [
    {
      "cell_type": "code",
      "execution_count": 1,
      "metadata": {
        "colab": {
          "base_uri": "https://localhost:8080/"
        },
        "id": "KsqFZPa182nc",
        "outputId": "35b7636f-b27d-4428-b593-401b8288ae5f"
      },
      "outputs": [
        {
          "output_type": "stream",
          "name": "stdout",
          "text": [
            "not valid\n"
          ]
        }
      ],
      "source": [
        "x=10\n",
        "y=18\n",
        "if(x>10 and y>18 ):\n",
        "  print(\"valid\")\n",
        "else:\n",
        "  print(\"not valid\")\n"
      ]
    },
    {
      "cell_type": "code",
      "source": [
        "x=15\n",
        "y=116\n",
        "if(x>10 and y>18 ):\n",
        "   print(\"valid\")\n",
        "else:\n",
        "    print(\"not valid\")\n"
      ],
      "metadata": {
        "colab": {
          "base_uri": "https://localhost:8080/"
        },
        "id": "8q44T50TCMp4",
        "outputId": "f3c78897-9d19-4626-85ed-a8968638c1e4"
      },
      "execution_count": null,
      "outputs": [
        {
          "output_type": "stream",
          "name": "stdout",
          "text": [
            "valid\n"
          ]
        }
      ]
    },
    {
      "cell_type": "code",
      "source": [
        "x=10\n",
        "y=15\n",
        "z=20\n",
        "if(x<y and x<z):\n",
        "   print(\" x is minimm\")\n",
        "elif(y<x and y<z):\n",
        "  print(\"y is minimmmmm\")\n",
        "elif(z<x and z<y):\n",
        "  print(\"z is minimmm\")\n",
        "else:\n",
        "   print(\"equals\")"
      ],
      "metadata": {
        "colab": {
          "base_uri": "https://localhost:8080/"
        },
        "id": "f8hA8b_iCa6v",
        "outputId": "32527f1a-5adf-430f-9edc-9813f2fd5c9d"
      },
      "execution_count": null,
      "outputs": [
        {
          "output_type": "stream",
          "name": "stdout",
          "text": [
            " x is minimm\n"
          ]
        }
      ]
    },
    {
      "cell_type": "code",
      "source": [
        "x=\n",
        "if(x<60):\n",
        "  print(\"fail\")\n",
        "elif(60<=x<75):\n",
        "  print(\"average\")\n",
        "elif(75<=x<85):\n",
        "  print(\"good\")\n",
        "elif(85<=x<95):\n",
        "  print(\"exelent\")\n",
        "else:\n",
        "  print(\"brelent\")\n",
        "\n"
      ],
      "metadata": {
        "colab": {
          "base_uri": "https://localhost:8080/"
        },
        "id": "czqqtRLADerj",
        "outputId": "a629ab85-9d46-4976-c98c-a4039d33dfc9"
      },
      "execution_count": null,
      "outputs": [
        {
          "output_type": "stream",
          "name": "stdout",
          "text": [
            "brelent\n"
          ]
        }
      ]
    },
    {
      "cell_type": "code",
      "source": [
        "x=60\n",
        "if(x%2==0 and x%3==0):\n",
        "  print(\"divide by 6\")\n",
        "else:\n",
        "  print(\"not divide by 6\")"
      ],
      "metadata": {
        "colab": {
          "base_uri": "https://localhost:8080/"
        },
        "id": "AKpjUSmPEzPj",
        "outputId": "399f8e6a-5526-4296-fa70-92c1131eddc2"
      },
      "execution_count": null,
      "outputs": [
        {
          "output_type": "stream",
          "name": "stdout",
          "text": [
            "divide by 6\n"
          ]
        }
      ]
    },
    {
      "cell_type": "code",
      "source": [
        "x=5\n",
        "if(x==1):\n",
        "  print(\"january\")\n",
        "elif(x==2):\n",
        "  print(\"febury\")\n",
        "elif(x==3):\n",
        "  print(\"march\")\n",
        "elif(x==4):\n",
        "  print(\"april\")\n",
        "elif(x==5):\n",
        "  print(\"may\")\n",
        "elif(x==6):\n",
        "  print(\"june\")\n",
        "elif(x==7):\n",
        "  print(\"july\")\n",
        "elif(x==8):\n",
        "  print(\"august\")\n",
        "elif(x==9):\n",
        "  print(\"september\")\n",
        "elif(x==10):\n",
        "  print(\"october\")\n",
        "elif(x==11):\n",
        "  print(\"november\")\n",
        "elif(x==12):\n",
        "  print(\"december\")\n",
        "else:\n",
        "  print(\"not found your code\")"
      ],
      "metadata": {
        "colab": {
          "base_uri": "https://localhost:8080/"
        },
        "id": "NgnSB3KWR9Iu",
        "outputId": "34368e65-dcbb-4f08-c983-bac143d48651"
      },
      "execution_count": null,
      "outputs": [
        {
          "output_type": "stream",
          "name": "stdout",
          "text": [
            "may\n"
          ]
        }
      ]
    },
    {
      "cell_type": "code",
      "source": [],
      "metadata": {
        "colab": {
          "base_uri": "https://localhost:8080/"
        },
        "id": "C-Et7EU7TeIm",
        "outputId": "2882be04-147e-4f8e-ab07-3649eeb4a53e"
      },
      "execution_count": null,
      "outputs": [
        {
          "output_type": "stream",
          "name": "stdout",
          "text": [
            "10*50+y*20\n"
          ]
        }
      ]
    },
    {
      "cell_type": "code",
      "source": [
        "mydict={1:\"rahul\", 2:\"jatin\"}\n",
        "mydict"
      ],
      "metadata": {
        "id": "tbjExSYUWODn",
        "colab": {
          "base_uri": "https://localhost:8080/"
        },
        "outputId": "4da5591f-21db-4176-992a-cd9e969fce56"
      },
      "execution_count": 2,
      "outputs": [
        {
          "output_type": "execute_result",
          "data": {
            "text/plain": [
              "{1: 'rahul', 2: 'jatin'}"
            ]
          },
          "metadata": {},
          "execution_count": 2
        }
      ]
    },
    {
      "cell_type": "code",
      "source": [
        "type(mydict)"
      ],
      "metadata": {
        "colab": {
          "base_uri": "https://localhost:8080/"
        },
        "id": "xgVL4EDAiy_y",
        "outputId": "c6ac4a91-16a2-4b63-87d4-a3dbe0ce7689"
      },
      "execution_count": 3,
      "outputs": [
        {
          "output_type": "execute_result",
          "data": {
            "text/plain": [
              "dict"
            ]
          },
          "metadata": {},
          "execution_count": 3
        }
      ]
    },
    {
      "cell_type": "code",
      "source": [
        "mydict[0]=\"suman\""
      ],
      "metadata": {
        "id": "jR5Sjl4Si1hv"
      },
      "execution_count": 5,
      "outputs": []
    },
    {
      "cell_type": "code",
      "source": [
        "mydict"
      ],
      "metadata": {
        "colab": {
          "base_uri": "https://localhost:8080/"
        },
        "id": "zOkJ9-3Li5d4",
        "outputId": "ca852f7a-8a88-4bcf-c5d9-b37a9016b496"
      },
      "execution_count": 6,
      "outputs": [
        {
          "output_type": "execute_result",
          "data": {
            "text/plain": [
              "{1: 'rahul', 2: 'jatin', 0: 'suman'}"
            ]
          },
          "metadata": {},
          "execution_count": 6
        }
      ]
    },
    {
      "cell_type": "code",
      "source": [
        "mydict[0]=\"pooja\""
      ],
      "metadata": {
        "id": "93w_Fvzii--a"
      },
      "execution_count": 7,
      "outputs": []
    },
    {
      "cell_type": "code",
      "source": [
        "mydict"
      ],
      "metadata": {
        "colab": {
          "base_uri": "https://localhost:8080/"
        },
        "id": "gdYR_c-6jGJq",
        "outputId": "3348e285-d55c-4056-9464-31ef45b61062"
      },
      "execution_count": 8,
      "outputs": [
        {
          "output_type": "execute_result",
          "data": {
            "text/plain": [
              "{1: 'rahul', 2: 'jatin', 0: 'pooja'}"
            ]
          },
          "metadata": {},
          "execution_count": 8
        }
      ]
    },
    {
      "cell_type": "code",
      "source": [
        "mydict[1]"
      ],
      "metadata": {
        "colab": {
          "base_uri": "https://localhost:8080/",
          "height": 35
        },
        "id": "V5wg65U0jG7S",
        "outputId": "8a7cb0a8-6f86-4c89-8431-4ede83e145a0"
      },
      "execution_count": 9,
      "outputs": [
        {
          "output_type": "execute_result",
          "data": {
            "text/plain": [
              "'rahul'"
            ],
            "application/vnd.google.colaboratory.intrinsic+json": {
              "type": "string"
            }
          },
          "metadata": {},
          "execution_count": 9
        }
      ]
    },
    {
      "cell_type": "code",
      "source": [
        "# inert\n",
        "\n",
        "mydict={1:\"rahul\", 3:\"jai\"}\n",
        "mydict\n",
        "\n"
      ],
      "metadata": {
        "colab": {
          "base_uri": "https://localhost:8080/"
        },
        "id": "ow3GDB5NjSwr",
        "outputId": "7ecfbc77-e783-42c1-d40d-c56565fac90f"
      },
      "execution_count": 11,
      "outputs": [
        {
          "output_type": "execute_result",
          "data": {
            "text/plain": [
              "{1: 'rahul', 3: 'jai'}"
            ]
          },
          "metadata": {},
          "execution_count": 11
        }
      ]
    },
    {
      "cell_type": "code",
      "source": [
        "x=mydict.pop(1)"
      ],
      "metadata": {
        "id": "jlsNYqaAj30Q"
      },
      "execution_count": 12,
      "outputs": []
    },
    {
      "cell_type": "code",
      "source": [
        "x"
      ],
      "metadata": {
        "colab": {
          "base_uri": "https://localhost:8080/",
          "height": 35
        },
        "id": "mrmptgo6kDq5",
        "outputId": "0a82be65-a2ef-4864-9f13-e865035fadf0"
      },
      "execution_count": 13,
      "outputs": [
        {
          "output_type": "execute_result",
          "data": {
            "text/plain": [
              "'rahul'"
            ],
            "application/vnd.google.colaboratory.intrinsic+json": {
              "type": "string"
            }
          },
          "metadata": {},
          "execution_count": 13
        }
      ]
    },
    {
      "cell_type": "code",
      "source": [
        "mydict"
      ],
      "metadata": {
        "colab": {
          "base_uri": "https://localhost:8080/"
        },
        "id": "_RWNhc46kEJA",
        "outputId": "677d82d1-42e3-4d5b-d9e4-e0d2e3b83253"
      },
      "execution_count": 14,
      "outputs": [
        {
          "output_type": "execute_result",
          "data": {
            "text/plain": [
              "{3: 'jai'}"
            ]
          },
          "metadata": {},
          "execution_count": 14
        }
      ]
    },
    {
      "cell_type": "code",
      "source": [
        "mydict={10:\"gopal\",20:\"sumit\"}\n"
      ],
      "metadata": {
        "id": "TlFxWSimkGfY"
      },
      "execution_count": 66,
      "outputs": []
    },
    {
      "cell_type": "code",
      "source": [
        "mydict"
      ],
      "metadata": {
        "colab": {
          "base_uri": "https://localhost:8080/"
        },
        "id": "NpVgt6gkkW96",
        "outputId": "187f556c-3d4d-4bb8-d163-78e324235355"
      },
      "execution_count": 16,
      "outputs": [
        {
          "output_type": "execute_result",
          "data": {
            "text/plain": [
              "{10: 'gopal', 20: 'sumit'}"
            ]
          },
          "metadata": {},
          "execution_count": 16
        }
      ]
    },
    {
      "cell_type": "code",
      "source": [
        "mydict[30]=\"tanish\""
      ],
      "metadata": {
        "id": "ex9oS_43kYPj"
      },
      "execution_count": 19,
      "outputs": []
    },
    {
      "cell_type": "code",
      "source": [
        "mydict"
      ],
      "metadata": {
        "colab": {
          "base_uri": "https://localhost:8080/"
        },
        "id": "__CgYBSsncoJ",
        "outputId": "ba65fbf3-5c0a-4154-ec18-4fb421ddb809"
      },
      "execution_count": 20,
      "outputs": [
        {
          "output_type": "execute_result",
          "data": {
            "text/plain": [
              "{10: 'gopal', 20: 'sumit', 30: 'tanish'}"
            ]
          },
          "metadata": {},
          "execution_count": 20
        }
      ]
    },
    {
      "cell_type": "code",
      "source": [
        "m={10:\"rahul\",20:\"rohit\", 20:\"sumit\"}\n",
        "m"
      ],
      "metadata": {
        "colab": {
          "base_uri": "https://localhost:8080/"
        },
        "id": "yYVGoziWnjBI",
        "outputId": "9bf0f689-95aa-4108-aa87-ce8ae5f31dc5"
      },
      "execution_count": 22,
      "outputs": [
        {
          "output_type": "execute_result",
          "data": {
            "text/plain": [
              "{10: 'rahul', 20: 'sumit'}"
            ]
          },
          "metadata": {},
          "execution_count": 22
        }
      ]
    },
    {
      "cell_type": "code",
      "source": [
        "newdict={}\n",
        "for i in \"hellorahulxyhjgdskjdkjd\":\n",
        "  newdict[i]=\"hello\"\n",
        "\n",
        "\n",
        "newdict"
      ],
      "metadata": {
        "colab": {
          "base_uri": "https://localhost:8080/"
        },
        "id": "3VDaQj1mn3Tz",
        "outputId": "505443c7-2806-4738-c71a-0849bb02e04f"
      },
      "execution_count": 28,
      "outputs": [
        {
          "output_type": "execute_result",
          "data": {
            "text/plain": [
              "{'h': 'hello',\n",
              " 'e': 'hello',\n",
              " 'l': 'hello',\n",
              " 'o': 'hello',\n",
              " 'r': 'hello',\n",
              " 'a': 'hello',\n",
              " 'u': 'hello',\n",
              " 'x': 'hello',\n",
              " 'y': 'hello',\n",
              " 'j': 'hello',\n",
              " 'g': 'hello',\n",
              " 'd': 'hello',\n",
              " 's': 'hello',\n",
              " 'k': 'hello'}"
            ]
          },
          "metadata": {},
          "execution_count": 28
        }
      ]
    },
    {
      "cell_type": "code",
      "source": [
        "print(newdict)"
      ],
      "metadata": {
        "colab": {
          "base_uri": "https://localhost:8080/"
        },
        "id": "4c4aNq7foQ3G",
        "outputId": "236a4238-0587-4e8e-e2d6-7c6cecab4501"
      },
      "execution_count": 29,
      "outputs": [
        {
          "output_type": "stream",
          "name": "stdout",
          "text": [
            "{'h': 'hello', 'e': 'hello', 'l': 'hello', 'o': 'hello', 'r': 'hello', 'a': 'hello', 'u': 'hello', 'x': 'hello', 'y': 'hello', 'j': 'hello', 'g': 'hello', 'd': 'hello', 's': 'hello', 'k': 'hello'}\n"
          ]
        }
      ]
    },
    {
      "cell_type": "code",
      "source": [
        "count=0\n",
        "for i in \"rahul\":\n",
        "  print(i)\n",
        "  count=count+1\n",
        "\n",
        "\n",
        "print(\"total word count:\",count)"
      ],
      "metadata": {
        "colab": {
          "base_uri": "https://localhost:8080/"
        },
        "id": "3jc9N1F-opuW",
        "outputId": "b33619c0-a0c3-4fbe-cb15-e88a270bd717"
      },
      "execution_count": 34,
      "outputs": [
        {
          "output_type": "stream",
          "name": "stdout",
          "text": [
            "r\n",
            "a\n",
            "h\n",
            "u\n",
            "l\n",
            "total word count: 5\n"
          ]
        }
      ]
    },
    {
      "cell_type": "code",
      "source": [
        "# count of didgit\n",
        "\n",
        "x={\"total\":0}\n",
        "for i in \"hellorahul12345678\":\n",
        "  x[\"total\"]=x[\"total\"]+1\n",
        "\n",
        "print(x)"
      ],
      "metadata": {
        "colab": {
          "base_uri": "https://localhost:8080/"
        },
        "id": "p3M71qgepFy5",
        "outputId": "1f82f2a3-20d7-47f2-d6ca-5ba7aaced1d8"
      },
      "execution_count": 36,
      "outputs": [
        {
          "output_type": "stream",
          "name": "stdout",
          "text": [
            "{'total': 18}\n"
          ]
        }
      ]
    },
    {
      "cell_type": "code",
      "source": [
        "# how many vowels and consonate are present in setence\n",
        "\n",
        "v={}\n",
        "c={}\n",
        "x=\"hello i am rahul and you\"\n",
        "\n",
        "for i in x:\n",
        "  if i in \"aeiou\":\n",
        "    if i in v:\n",
        "\n",
        "      v[i]=v[i]+1\n",
        "\n",
        "    else:\n",
        "      v[i]=1\n",
        "\n",
        "  elif(i not in \"aeiou\"):\n",
        "    if i in c:\n",
        "      c[i]=c[i]+1\n",
        "\n",
        "\n",
        "    else:\n",
        "      c[i]=1\n",
        "\n",
        "\n",
        "print(v)\n",
        "print(c)"
      ],
      "metadata": {
        "colab": {
          "base_uri": "https://localhost:8080/"
        },
        "id": "X-XtCh0Mp2Pm",
        "outputId": "1b1099be-5274-43d0-b7d5-7cffe34047a2"
      },
      "execution_count": 42,
      "outputs": [
        {
          "output_type": "stream",
          "name": "stdout",
          "text": [
            "{'e': 1, 'o': 2, 'i': 1, 'a': 3, 'u': 2}\n",
            "{'h': 2, 'l': 3, ' ': 5, 'm': 1, 'r': 1, 'n': 1, 'd': 1, 'y': 1}\n"
          ]
        }
      ]
    },
    {
      "cell_type": "code",
      "source": [
        "vowels={}\n",
        "cons={}\n",
        "x=\"oye hello don ji\"\n",
        "for i in x:\n",
        "  if i in \"aeiou\":\n",
        "    if i in vowels:\n",
        "      vowels[i]=vowels[i]+1\n",
        "    else:\n",
        "      vowels[i]=1\n",
        "\n",
        "  if i not in \"aeiou\":\n",
        "    if i in cons:\n",
        "      cons[i]+=1\n",
        "    else:\n",
        "      cons[i]=1\n",
        "print(vowels)\n",
        "print(cons)"
      ],
      "metadata": {
        "colab": {
          "base_uri": "https://localhost:8080/"
        },
        "id": "zXEQ_rbiuz9x",
        "outputId": "6b961a79-eac1-49e5-c185-4ff815e0b363"
      },
      "execution_count": 62,
      "outputs": [
        {
          "output_type": "stream",
          "name": "stdout",
          "text": [
            "{'o': 3, 'e': 2, 'i': 1}\n",
            "{'y': 1, ' ': 3, 'h': 1, 'l': 2, 'd': 1, 'n': 1, 'j': 1}\n"
          ]
        }
      ]
    },
    {
      "cell_type": "code",
      "source": [
        "mydict.keys()"
      ],
      "metadata": {
        "colab": {
          "base_uri": "https://localhost:8080/"
        },
        "id": "Zh0wdHnCv5Mq",
        "outputId": "1996344c-e9c8-4769-eb3c-28682af619e3"
      },
      "execution_count": 68,
      "outputs": [
        {
          "output_type": "execute_result",
          "data": {
            "text/plain": [
              "dict_keys([10, 20])"
            ]
          },
          "metadata": {},
          "execution_count": 68
        }
      ]
    },
    {
      "cell_type": "code",
      "source": [
        "newdict.keys()"
      ],
      "metadata": {
        "colab": {
          "base_uri": "https://localhost:8080/"
        },
        "id": "PgEH-6ADv6hI",
        "outputId": "5ec2586c-77e9-46d7-ba03-3ac66134a039"
      },
      "execution_count": 69,
      "outputs": [
        {
          "output_type": "execute_result",
          "data": {
            "text/plain": [
              "dict_keys(['h', 'e', 'l', 'o', 'r', 'a', 'u', 'x', 'y', 'j', 'g', 'd', 's', 'k'])"
            ]
          },
          "metadata": {},
          "execution_count": 69
        }
      ]
    },
    {
      "cell_type": "code",
      "source": [
        "list(newdict.keys())"
      ],
      "metadata": {
        "colab": {
          "base_uri": "https://localhost:8080/"
        },
        "id": "itPRu0pyv_5C",
        "outputId": "8b2cc365-a2e2-411f-f879-b3e191759909"
      },
      "execution_count": 70,
      "outputs": [
        {
          "output_type": "execute_result",
          "data": {
            "text/plain": [
              "['h', 'e', 'l', 'o', 'r', 'a', 'u', 'x', 'y', 'j', 'g', 'd', 's', 'k']"
            ]
          },
          "metadata": {},
          "execution_count": 70
        }
      ]
    },
    {
      "cell_type": "code",
      "source": [
        "len(newdict)"
      ],
      "metadata": {
        "colab": {
          "base_uri": "https://localhost:8080/"
        },
        "id": "wGGErA8SwEGS",
        "outputId": "0f0ec73c-9845-4235-e036-106958ba9a91"
      },
      "execution_count": 71,
      "outputs": [
        {
          "output_type": "execute_result",
          "data": {
            "text/plain": [
              "14"
            ]
          },
          "metadata": {},
          "execution_count": 71
        }
      ]
    },
    {
      "cell_type": "code",
      "source": [
        "len(list(newdict.keys()))"
      ],
      "metadata": {
        "colab": {
          "base_uri": "https://localhost:8080/"
        },
        "id": "2AH5Dnd0wsnm",
        "outputId": "a3ab5753-6152-46a5-812d-5b45a5480a7a"
      },
      "execution_count": 72,
      "outputs": [
        {
          "output_type": "execute_result",
          "data": {
            "text/plain": [
              "14"
            ]
          },
          "metadata": {},
          "execution_count": 72
        }
      ]
    },
    {
      "cell_type": "code",
      "source": [
        "newdict.values()"
      ],
      "metadata": {
        "colab": {
          "base_uri": "https://localhost:8080/"
        },
        "id": "8eXMvhxTws_2",
        "outputId": "4b6883a1-56c0-4f21-b099-36e783da0e59"
      },
      "execution_count": 73,
      "outputs": [
        {
          "output_type": "execute_result",
          "data": {
            "text/plain": [
              "dict_values(['hello', 'hello', 'hello', 'hello', 'hello', 'hello', 'hello', 'hello', 'hello', 'hello', 'hello', 'hello', 'hello', 'hello'])"
            ]
          },
          "metadata": {},
          "execution_count": 73
        }
      ]
    },
    {
      "cell_type": "code",
      "source": [
        "list(newdict.values())"
      ],
      "metadata": {
        "colab": {
          "base_uri": "https://localhost:8080/"
        },
        "id": "zubdVQoNwxKH",
        "outputId": "539ac14c-c2e5-4040-9a4b-acd3b972f1ae"
      },
      "execution_count": 74,
      "outputs": [
        {
          "output_type": "execute_result",
          "data": {
            "text/plain": [
              "['hello',\n",
              " 'hello',\n",
              " 'hello',\n",
              " 'hello',\n",
              " 'hello',\n",
              " 'hello',\n",
              " 'hello',\n",
              " 'hello',\n",
              " 'hello',\n",
              " 'hello',\n",
              " 'hello',\n",
              " 'hello',\n",
              " 'hello',\n",
              " 'hello']"
            ]
          },
          "metadata": {},
          "execution_count": 74
        }
      ]
    },
    {
      "cell_type": "code",
      "source": [
        "newdict.items()"
      ],
      "metadata": {
        "colab": {
          "base_uri": "https://localhost:8080/"
        },
        "id": "NAv7GWJmwxYm",
        "outputId": "44887d48-d174-4e35-a255-010af6dfae19"
      },
      "execution_count": 75,
      "outputs": [
        {
          "output_type": "execute_result",
          "data": {
            "text/plain": [
              "dict_items([('h', 'hello'), ('e', 'hello'), ('l', 'hello'), ('o', 'hello'), ('r', 'hello'), ('a', 'hello'), ('u', 'hello'), ('x', 'hello'), ('y', 'hello'), ('j', 'hello'), ('g', 'hello'), ('d', 'hello'), ('s', 'hello'), ('k', 'hello')])"
            ]
          },
          "metadata": {},
          "execution_count": 75
        }
      ]
    },
    {
      "cell_type": "code",
      "source": [
        "mydict.items()"
      ],
      "metadata": {
        "colab": {
          "base_uri": "https://localhost:8080/"
        },
        "id": "uDwD7IrUCDr2",
        "outputId": "4007ed77-72df-49ed-c4ec-00ba85fe272b"
      },
      "execution_count": 76,
      "outputs": [
        {
          "output_type": "execute_result",
          "data": {
            "text/plain": [
              "dict_items([(10, 'gopal'), (20, 'sumit')])"
            ]
          },
          "metadata": {},
          "execution_count": 76
        }
      ]
    },
    {
      "cell_type": "code",
      "source": [
        "mydict.get(10)"
      ],
      "metadata": {
        "colab": {
          "base_uri": "https://localhost:8080/",
          "height": 35
        },
        "id": "W7oAlQy2CHgN",
        "outputId": "f5e80146-32e2-45a2-9b82-280785024dde"
      },
      "execution_count": 77,
      "outputs": [
        {
          "output_type": "execute_result",
          "data": {
            "text/plain": [
              "'gopal'"
            ],
            "application/vnd.google.colaboratory.intrinsic+json": {
              "type": "string"
            }
          },
          "metadata": {},
          "execution_count": 77
        }
      ]
    },
    {
      "cell_type": "code",
      "source": [
        "mydict.get(100000)"
      ],
      "metadata": {
        "id": "8e5C4rooCO5m"
      },
      "execution_count": 78,
      "outputs": []
    },
    {
      "cell_type": "code",
      "source": [
        "mydict[100000]"
      ],
      "metadata": {
        "colab": {
          "base_uri": "https://localhost:8080/",
          "height": 141
        },
        "id": "oCwAhekgCZgg",
        "outputId": "2b7f3b77-1c72-424e-afbb-e01b079726fc"
      },
      "execution_count": 79,
      "outputs": [
        {
          "output_type": "error",
          "ename": "KeyError",
          "evalue": "100000",
          "traceback": [
            "\u001b[0;31m---------------------------------------------------------------------------\u001b[0m",
            "\u001b[0;31mKeyError\u001b[0m                                  Traceback (most recent call last)",
            "\u001b[0;32m/tmp/ipython-input-79-2120066728.py\u001b[0m in \u001b[0;36m<cell line: 0>\u001b[0;34m()\u001b[0m\n\u001b[0;32m----> 1\u001b[0;31m \u001b[0mmydict\u001b[0m\u001b[0;34m[\u001b[0m\u001b[0;36m100000\u001b[0m\u001b[0;34m]\u001b[0m\u001b[0;34m\u001b[0m\u001b[0;34m\u001b[0m\u001b[0m\n\u001b[0m",
            "\u001b[0;31mKeyError\u001b[0m: 100000"
          ]
        }
      ]
    },
    {
      "cell_type": "code",
      "source": [
        "mydict"
      ],
      "metadata": {
        "colab": {
          "base_uri": "https://localhost:8080/"
        },
        "id": "HD6nAw6rCf15",
        "outputId": "a7f477e0-8f30-4dbe-f7e1-0e1d821bd04a"
      },
      "execution_count": 80,
      "outputs": [
        {
          "output_type": "execute_result",
          "data": {
            "text/plain": [
              "{10: 'gopal', 20: 'sumit'}"
            ]
          },
          "metadata": {},
          "execution_count": 80
        }
      ]
    },
    {
      "cell_type": "code",
      "source": [
        "mydict.update({\"city\":\"jaipur\"})\n",
        "mydict"
      ],
      "metadata": {
        "colab": {
          "base_uri": "https://localhost:8080/"
        },
        "id": "RaUvObLBCspB",
        "outputId": "15f3b89d-b83e-4a75-8fab-47605c53d26d"
      },
      "execution_count": 81,
      "outputs": [
        {
          "output_type": "execute_result",
          "data": {
            "text/plain": [
              "{10: 'gopal', 20: 'sumit', 'city': 'jaipur'}"
            ]
          },
          "metadata": {},
          "execution_count": 81
        }
      ]
    },
    {
      "cell_type": "code",
      "source": [],
      "metadata": {
        "id": "KghpO-pJC2VT"
      },
      "execution_count": null,
      "outputs": []
    }
  ]
}
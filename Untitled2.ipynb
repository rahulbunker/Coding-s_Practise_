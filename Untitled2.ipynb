{
  "nbformat": 4,
  "nbformat_minor": 0,
  "metadata": {
    "colab": {
      "provenance": []
    },
    "kernelspec": {
      "name": "python3",
      "display_name": "Python 3"
    },
    "language_info": {
      "name": "python"
    }
  },
  "cells": [
    {
      "cell_type": "code",
      "execution_count": null,
      "metadata": {
        "colab": {
          "base_uri": "https://localhost:8080/"
        },
        "id": "E0Oa3oT2uqWg",
        "outputId": "b22d3da6-20d2-4829-a823-01c3d7ecb9c0"
      },
      "outputs": [
        {
          "output_type": "stream",
          "name": "stdout",
          "text": [
            "helo \n",
            "world---hey rahul \n"
          ]
        }
      ],
      "source": [
        "-print(\"helo \\nworld\",end=\"---\")\n",
        "print(\"hey rahul \")"
      ]
    },
    {
      "cell_type": "code",
      "source": [
        "print(\"heloo\",\"hey\",sep= \"+\")"
      ],
      "metadata": {
        "colab": {
          "base_uri": "https://localhost:8080/"
        },
        "id": "ieB8UgaEuvaL",
        "outputId": "352fc4e0-4699-4b43-e6a0-8a357d28963f"
      },
      "execution_count": null,
      "outputs": [
        {
          "output_type": "stream",
          "name": "stdout",
          "text": [
            "heloo+hey\n"
          ]
        }
      ]
    },
    {
      "cell_type": "code",
      "source": [
        "age=10"
      ],
      "metadata": {
        "id": "Qq-fsZsQvcNO"
      },
      "execution_count": null,
      "outputs": []
    },
    {
      "cell_type": "code",
      "source": [
        "print(type(age))"
      ],
      "metadata": {
        "colab": {
          "base_uri": "https://localhost:8080/"
        },
        "id": "EOuYCGJLxIOK",
        "outputId": "d743066e-88af-4123-b58d-f948e47ccef7"
      },
      "execution_count": null,
      "outputs": [
        {
          "output_type": "stream",
          "name": "stdout",
          "text": [
            "<class 'int'>\n"
          ]
        }
      ]
    },
    {
      "cell_type": "code",
      "source": [
        "address=\"\"\"plot no-\n",
        "city\n",
        "state\"\"\"\n",
        "print(address)\n"
      ],
      "metadata": {
        "colab": {
          "base_uri": "https://localhost:8080/"
        },
        "id": "bZrPIWxBxMgj",
        "outputId": "c28476aa-b5db-4458-ec7d-c2c593dc53a1"
      },
      "execution_count": null,
      "outputs": [
        {
          "output_type": "stream",
          "name": "stdout",
          "text": [
            "plot no-\n",
            "city\n",
            "state\n"
          ]
        }
      ]
    },
    {
      "cell_type": "code",
      "source": [
        "company=\"Regex\"\n",
        "year=2024\n",
        "print(\"company name is\" ,company} year is {year})"
      ],
      "metadata": {
        "colab": {
          "base_uri": "https://localhost:8080/",
          "height": 106
        },
        "id": "5S_NWhpmx6EH",
        "outputId": "015f2c1a-976e-4888-bae9-825beec15f9d"
      },
      "execution_count": null,
      "outputs": [
        {
          "output_type": "error",
          "ename": "SyntaxError",
          "evalue": "invalid syntax. Perhaps you forgot a comma? (<ipython-input-17-202615e690e6>, line 3)",
          "traceback": [
            "\u001b[0;36m  File \u001b[0;32m\"<ipython-input-17-202615e690e6>\"\u001b[0;36m, line \u001b[0;32m3\u001b[0m\n\u001b[0;31m    print(company name is{company} year is {year})\u001b[0m\n\u001b[0m          ^\u001b[0m\n\u001b[0;31mSyntaxError\u001b[0m\u001b[0;31m:\u001b[0m invalid syntax. Perhaps you forgot a comma?\n"
          ]
        }
      ]
    },
    {
      "cell_type": "code",
      "source": [
        "# prompt:\n",
        "\n",
        "# This code has several syntax errors and logical issues. Here's the corrected code:\n",
        "\n",
        "print(\"hello\\nworld\", end=\"---\")\n",
        "print(\"hey rahul\")\n",
        "print(\"hello\", \"hey\", sep=\"+\")\n",
        "age = 10\n",
        "print(type(age))\n",
        "address = \"\"\"plot no-\n",
        "city\n",
        "state\"\"\"\n",
        "print(address)\n",
        "\n",
        "company = \"Regex\"\n",
        "year = 2024\n",
        "print(f\"Company name is {company} and year is {year}\")\n"
      ],
      "metadata": {
        "id": "gEBF72zexX5l"
      },
      "execution_count": null,
      "outputs": []
    },
    {
      "cell_type": "code",
      "source": [
        "print(id(x))"
      ],
      "metadata": {
        "colab": {
          "base_uri": "https://localhost:8080/"
        },
        "id": "pxkxjY8K2i2A",
        "outputId": "d68b04ca-93db-471c-a458-0a9b721edbee"
      },
      "execution_count": null,
      "outputs": [
        {
          "output_type": "stream",
          "name": "stdout",
          "text": [
            "134442935419408\n"
          ]
        }
      ]
    },
    {
      "cell_type": "code",
      "source": [
        "y=x\n",
        "print(id(y))"
      ],
      "metadata": {
        "colab": {
          "base_uri": "https://localhost:8080/"
        },
        "id": "oVTXpSck2tC4",
        "outputId": "d57b192d-7df9-49b1-c8c1-69cf79c02864"
      },
      "execution_count": null,
      "outputs": [
        {
          "output_type": "stream",
          "name": "stdout",
          "text": [
            "134442935419408\n"
          ]
        }
      ]
    },
    {
      "cell_type": "code",
      "source": [
        "x=int(input(\"enter the number:\"))\n",
        "list=[10,20,25,63,25,96,36,58,96,22]\n",
        "i=0\n",
        "while(i<len(list)):\n",
        "    if(list[i]==x):\n",
        "        print(\"this number is faound\")\n",
        "\n",
        "\n",
        "    else:\n",
        "        print(\"this numbner is not faound\")\n",
        "\n",
        "    i=i+1\n"
      ],
      "metadata": {
        "id": "qyvThJR82ycy",
        "colab": {
          "base_uri": "https://localhost:8080/"
        },
        "outputId": "3ce1d8e0-7e5d-4f17-ad99-25c4de5e5229"
      },
      "execution_count": null,
      "outputs": [
        {
          "output_type": "stream",
          "name": "stdout",
          "text": [
            "enter the number:25\n",
            "this numbner is not faound\n",
            "this numbner is not faound\n",
            "this number is faound\n",
            "this numbner is not faound\n",
            "this number is faound\n",
            "this numbner is not faound\n",
            "this numbner is not faound\n",
            "this numbner is not faound\n",
            "this numbner is not faound\n",
            "this numbner is not faound\n"
          ]
        }
      ]
    },
    {
      "cell_type": "code",
      "source": [
        "# Recurtion\n",
        "# when a function calls itself repeatedly"
      ],
      "metadata": {
        "id": "lxK7x5Fs5_n9"
      },
      "execution_count": null,
      "outputs": []
    },
    {
      "cell_type": "code",
      "source": [
        "def show(n):\n",
        "  if(n==1):\n",
        "    return\n",
        "\n",
        "  print(n)\n",
        "  show(n-1)\n",
        "show(5)"
      ],
      "metadata": {
        "colab": {
          "base_uri": "https://localhost:8080/"
        },
        "id": "hY8lQZy54U23",
        "outputId": "29877692-9f22-456b-b9bb-46749d17f0c9"
      },
      "execution_count": null,
      "outputs": [
        {
          "output_type": "stream",
          "name": "stdout",
          "text": [
            "5\n",
            "4\n",
            "3\n",
            "2\n"
          ]
        }
      ]
    },
    {
      "cell_type": "code",
      "source": [
        "def showw(n):\n",
        "  if(n==10):\n",
        "    return\n",
        "\n",
        "  print(n*10)\n",
        "  n=n-1\n",
        "\n",
        "  showw(n)\n",
        "\n",
        "\n",
        "showw(15)"
      ],
      "metadata": {
        "colab": {
          "base_uri": "https://localhost:8080/"
        },
        "id": "57nSjO0q4oVw",
        "outputId": "41485ee1-bba5-46f7-8c98-ee546750153b"
      },
      "execution_count": null,
      "outputs": [
        {
          "output_type": "stream",
          "name": "stdout",
          "text": [
            "150\n",
            "140\n",
            "130\n",
            "120\n",
            "110\n"
          ]
        }
      ]
    },
    {
      "cell_type": "code",
      "source": [
        "# recurtion function\n",
        "\n",
        "def show(n):\n",
        "  if (n==0):\n",
        "    return\n",
        "\n",
        "  print(n*100)\n",
        "  n=n-1\n",
        "  show(n)\n",
        "\n",
        "\n",
        "show(11)\n",
        "print(\"end\")"
      ],
      "metadata": {
        "colab": {
          "base_uri": "https://localhost:8080/"
        },
        "id": "XXIHia735ZVl",
        "outputId": "2f3fcb04-c5ef-44c6-a9a1-97c4619cb6f8"
      },
      "execution_count": null,
      "outputs": [
        {
          "output_type": "stream",
          "name": "stdout",
          "text": [
            "1100\n",
            "1000\n",
            "900\n",
            "800\n",
            "700\n",
            "600\n",
            "500\n",
            "400\n",
            "300\n",
            "200\n",
            "100\n",
            "end\n"
          ]
        }
      ]
    },
    {
      "cell_type": "code",
      "source": [
        "# factorial\n",
        "\n",
        "n=int(input(\"enter the number:\"))\n",
        "\n",
        "def fact(n):\n",
        "  f=1\n",
        "  for i in range(1,n+1):\n",
        "      f=f*i\n",
        "\n",
        "\n",
        "  return f\n",
        "\n",
        "\n",
        "\n",
        "\n",
        "\n",
        "\n",
        "\n",
        "\n",
        "\n",
        "result=fact(n)\n",
        "print(\"factorial:\",result)\n"
      ],
      "metadata": {
        "colab": {
          "base_uri": "https://localhost:8080/"
        },
        "id": "WdBCUaME8AU3",
        "outputId": "4ac5f273-f2f5-4bdd-ee98-41aa8a07f1ba"
      },
      "execution_count": null,
      "outputs": [
        {
          "output_type": "stream",
          "name": "stdout",
          "text": [
            "enter the number:5\n",
            "factorial: 120\n"
          ]
        }
      ]
    },
    {
      "cell_type": "code",
      "source": [
        "n = int(input(\"Enter the number: \"))\n",
        "\n",
        "\n",
        "def fact(n):\n",
        "    f = 1\n",
        "    for i in range(1, n + 1):\n",
        "        f = f * i\n",
        "    return f\n",
        "\n",
        "result = fact(n)\n",
        "print(\"Factorial is:\", result)\n"
      ],
      "metadata": {
        "colab": {
          "base_uri": "https://localhost:8080/"
        },
        "id": "ELJyDVYd9C0G",
        "outputId": "9970ed36-be57-45d8-b1f1-2d25aed4a968"
      },
      "execution_count": null,
      "outputs": [
        {
          "output_type": "stream",
          "name": "stdout",
          "text": [
            "Enter the number: 5\n",
            "Factorial is: 120\n"
          ]
        }
      ]
    },
    {
      "cell_type": "code",
      "source": [
        "sum=0\n",
        "def cal_sum(n):\n",
        "  sum=0\n",
        "  for i in range(1,n+1):\n",
        "    sum=sum+i\n",
        "\n",
        "  return sum\n",
        "s=cal_sum(10)\n",
        "print(s)\n"
      ],
      "metadata": {
        "colab": {
          "base_uri": "https://localhost:8080/"
        },
        "id": "Zn41KLvP_png",
        "outputId": "054e2356-cd48-4462-831e-cc6c160755f5"
      },
      "execution_count": null,
      "outputs": [
        {
          "output_type": "stream",
          "name": "stdout",
          "text": [
            "55\n"
          ]
        }
      ]
    },
    {
      "cell_type": "code",
      "source": [
        "def summ(n):\n",
        "  if(n==0):\n",
        "    return 0\n",
        "\n",
        "  return summ(n-1)+n\n",
        "\n",
        "ss=summ(10)\n",
        "\n",
        "print(ss)"
      ],
      "metadata": {
        "colab": {
          "base_uri": "https://localhost:8080/"
        },
        "id": "FCn9dJyWCo6E",
        "outputId": "0dd400b5-7952-401b-93c0-78242860206f"
      },
      "execution_count": null,
      "outputs": [
        {
          "output_type": "stream",
          "name": "stdout",
          "text": [
            "55\n"
          ]
        }
      ]
    },
    {
      "cell_type": "code",
      "source": [
        "def print_list(list,idx=0):\n",
        "  if(idx==len(list)):\n",
        "    return\n",
        "  print(list[idx])\n",
        "  print_list(list,idx+1)\n",
        "\n",
        "fruits=[\"mango\",\"banana\",\"apple\", \"lilchi\"]\n",
        "print_list(fruits)"
      ],
      "metadata": {
        "colab": {
          "base_uri": "https://localhost:8080/"
        },
        "id": "YE9ciyEYEVFx",
        "outputId": "42050458-8d6f-47a3-e39f-dbbe6a68e975"
      },
      "execution_count": null,
      "outputs": [
        {
          "output_type": "stream",
          "name": "stdout",
          "text": [
            "mango\n",
            "banana\n",
            "apple\n",
            "lilchi\n"
          ]
        }
      ]
    },
    {
      "cell_type": "code",
      "source": [],
      "metadata": {
        "id": "mkEb3N3HHGo1"
      },
      "execution_count": null,
      "outputs": []
    }
  ]
}
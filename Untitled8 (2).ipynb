{
 "cells": [
  {
   "cell_type": "code",
   "execution_count": 1,
   "id": "8c705989-594e-410b-bbca-19ade078c3b9",
   "metadata": {},
   "outputs": [],
   "source": [
    "# OOP in pythom"
   ]
  },
  {
   "cell_type": "code",
   "execution_count": 2,
   "id": "35e0c514-d14a-4b06-bf5c-4a9b2d71e458",
   "metadata": {},
   "outputs": [],
   "source": [
    "# class and object in python \n",
    "\n",
    "# class is a blueprint for creating object\n",
    "\n",
    "# class is a collection of objects and it does not any space on memory, class is allso \n",
    "#     called as blueprint logical entity\n",
    "                    "
   ]
  },
  {
   "cell_type": "code",
   "execution_count": 3,
   "id": "bc1d3fb1-ea8d-4e07-989c-3ebdc51855c3",
   "metadata": {},
   "outputs": [],
   "source": [
    "# object ==> reak time entity\n",
    "\n",
    "# 1. characticts ==> color , company , size\n",
    "# 2. behavihar/functionality(ex.laptop)"
   ]
  },
  {
   "cell_type": "code",
   "execution_count": 4,
   "id": "5614736a-a42c-4865-85b7-efe2bdabc6ad",
   "metadata": {},
   "outputs": [
    {
     "name": "stdout",
     "output_type": "stream",
     "text": [
      "rahul\n",
      "rahul\n"
     ]
    }
   ],
   "source": [
    "class student:\n",
    "    name =\"rahul\"\n",
    "\n",
    "s1=student()\n",
    "print(s1.name)\n",
    "\n",
    "s2=student()\n",
    "print(s2.name)"
   ]
  },
  {
   "cell_type": "code",
   "execution_count": 5,
   "id": "b5c6cd0d-0c94-4e16-8007-fc2e3880da51",
   "metadata": {},
   "outputs": [
    {
     "name": "stdout",
     "output_type": "stream",
     "text": [
      "red\n",
      "kia\n"
     ]
    }
   ],
   "source": [
    "class car:\n",
    "    color=\"red\"\n",
    "    brand=\"kia\"\n",
    "\n",
    "car1=car()\n",
    "print(car1.color)\n",
    "print(car1.brand)"
   ]
  },
  {
   "cell_type": "code",
   "execution_count": 6,
   "id": "2ebef082-f5cf-42ba-b25f-950f936e9ce2",
   "metadata": {},
   "outputs": [],
   "source": [
    "# constructor"
   ]
  },
  {
   "cell_type": "code",
   "execution_count": 7,
   "id": "9728c428-6a55-41a3-9be8-e0e72143592e",
   "metadata": {},
   "outputs": [],
   "source": [
    "# __init__function"
   ]
  },
  {
   "cell_type": "code",
   "execution_count": 8,
   "id": "cc0e2b7b-8ebb-4f60-981c-1becf1942035",
   "metadata": {},
   "outputs": [],
   "source": [
    "# creating a class\n",
    "\n",
    "class student:\n",
    "    def __init__(self,fullname):\n",
    "        self.name=fullname"
   ]
  },
  {
   "cell_type": "code",
   "execution_count": 9,
   "id": "3e2fa345-f5d5-48c6-a295-179f68486104",
   "metadata": {},
   "outputs": [
    {
     "name": "stdout",
     "output_type": "stream",
     "text": [
      "karan\n"
     ]
    }
   ],
   "source": [
    "# creating a object\n",
    "\n",
    "s1=student(\"karan\")\n",
    "print(s1.name)"
   ]
  },
  {
   "cell_type": "code",
   "execution_count": 10,
   "id": "3c7e7dbb-b078-471f-990a-ed6422fac4b5",
   "metadata": {},
   "outputs": [
    {
     "name": "stdout",
     "output_type": "stream",
     "text": [
      "<__main__.stu object at 0x0000018AD2204880>\n",
      "adding new student in dataset\n",
      "<__main__.stu object at 0x0000018AD2204880>\n"
     ]
    }
   ],
   "source": [
    "class stu():\n",
    "    name =\"sumit\"\n",
    "    def __init__(self):\n",
    "        print(self)\n",
    "        print(\"adding new student in dataset\")\n",
    "\n",
    "s1=stu()\n",
    "print(s1)"
   ]
  },
  {
   "cell_type": "code",
   "execution_count": 15,
   "id": "4045c9eb-b485-456d-abd0-ab03e768f5a0",
   "metadata": {},
   "outputs": [
    {
     "name": "stdout",
     "output_type": "stream",
     "text": [
      "123\n",
      "adding new student in database...\n",
      "jatin\n",
      "adding new student in database...\n",
      "rahul\n"
     ]
    }
   ],
   "source": [
    "class stu():\n",
    "    def __init__(self,stuname):\n",
    "        self.name=stuname\n",
    "        print(\"adding new student in database...\")\n",
    "\n",
    "print(123)\n",
    "s1=stu(\"jatin\")\n",
    "print(s1.name)\n",
    "\n",
    "s2=stu(\"rahul\")\n",
    "print(s2.name)"
   ]
  },
  {
   "cell_type": "code",
   "execution_count": 16,
   "id": "fca0388f-d252-493f-aa01-32c570302eaf",
   "metadata": {},
   "outputs": [],
   "source": [
    "# attributes ==>  data , variables "
   ]
  },
  {
   "cell_type": "code",
   "execution_count": 18,
   "id": "05c61505-87c9-43ae-a87f-ab9d93a62eeb",
   "metadata": {},
   "outputs": [
    {
     "name": "stdout",
     "output_type": "stream",
     "text": [
      "adding new student in database..\n",
      "jatin 85\n",
      "adding new student in database..\n",
      "sumit 85\n"
     ]
    }
   ],
   "source": [
    "class stu:\n",
    "    def __init__(self,name,marks):\n",
    "        self.name =name\n",
    "        self.marks=marks\n",
    "        print(\"adding new student in database..\")\n",
    "\n",
    "s1=stu(\"jatin\",85)\n",
    "print(s1.name , s1.marks)\n",
    "\n",
    "s2=stu(\"sumit\",56)\n",
    "print(s2.name,s1.marks)"
   ]
  },
  {
   "cell_type": "code",
   "execution_count": 22,
   "id": "85f067e9-a7ce-437d-9ad4-5cc048e54a84",
   "metadata": {},
   "outputs": [
    {
     "name": "stdout",
     "output_type": "stream",
     "text": [
      "adding new student in database..\n",
      "jatin 85\n",
      "adding new student in database..\n",
      "sumit 85\n"
     ]
    }
   ],
   "source": [
    "class stu:\n",
    "    # default construcors\n",
    "    def __init__(self):\n",
    "        pass \n",
    "\n",
    "    # parameterized constructors\n",
    "\n",
    "    def __init__(self,name,marks):\n",
    "        self.name=name\n",
    "        self.marks=marks\n",
    "        print(\"adding new student in database..\")\n",
    "\n",
    "s3=stu()  # default\n",
    "\n",
    "s1=stu(\"jatin\",85)\n",
    "print(s1.name , s1.marks)\n",
    "\n",
    "s2=stu(\"sumit\",56)\n",
    "print(s2.name,s1.marks)"
   ]
  },
  {
   "cell_type": "code",
   "execution_count": 23,
   "id": "bb14d8f8-d750-4423-9306-65b19d036c00",
   "metadata": {},
   "outputs": [
    {
     "name": "stdout",
     "output_type": "stream",
     "text": [
      "Default constructor called (no data provided)\n",
      "adding new student in database..\n",
      "jatin 85\n",
      "adding new student in database..\n",
      "sumit 85\n"
     ]
    }
   ],
   "source": [
    "class stu:\n",
    "    def __init__(self, name=None, marks=None):\n",
    "        if name is not None and marks is not None:\n",
    "            self.name = name\n",
    "            self.marks = marks\n",
    "            print(\"adding new student in database..\")\n",
    "        else:\n",
    "            print(\"Default constructor called (no data provided)\")\n",
    "\n",
    "# Default constructor\n",
    "s3 = stu()\n",
    "\n",
    "# Parameterized constructor\n",
    "s1 = stu(\"jatin\", 85)\n",
    "print(s1.name, s1.marks)\n",
    "\n",
    "s2 = stu(\"sumit\", 56)\n",
    "print(s2.name, s1.marks)\n"
   ]
  },
  {
   "cell_type": "code",
   "execution_count": 25,
   "id": "31197c8a-4bf3-487e-821f-a026576d78cb",
   "metadata": {},
   "outputs": [
    {
     "name": "stdout",
     "output_type": "stream",
     "text": [
      "sufal school\n"
     ]
    }
   ],
   "source": [
    "\n",
    "class stu:\n",
    "    collage_name=\"sufal school\"\n",
    "    def __init__(self,name,marks):\n",
    "        self.name=name\n",
    "        self.marks=marks\n",
    "\n",
    "s1=stu(\"rahul\",85)\n",
    "print(s1.collage_name)"
   ]
  },
  {
   "cell_type": "code",
   "execution_count": 26,
   "id": "a0ff073c-d436-4162-8250-e82853a7c3b8",
   "metadata": {},
   "outputs": [
    {
     "name": "stdout",
     "output_type": "stream",
     "text": [
      "sufal school\n"
     ]
    },
    {
     "data": {
      "text/plain": [
       "'abhi'"
      ]
     },
     "execution_count": 26,
     "metadata": {},
     "output_type": "execute_result"
    }
   ],
   "source": [
    "\n",
    "class stu:\n",
    "    collage_name=\"sufal school\"\n",
    "    name=\"abhi\"\n",
    "    def __init__(self,name,marks):\n",
    "        self.name=name\n",
    "        self.marks=marks\n",
    "\n",
    "s1=stu(\"rahul\",85)\n",
    "print(s1.collage_name)\n",
    "\n",
    "stu.name"
   ]
  },
  {
   "cell_type": "code",
   "execution_count": 27,
   "id": "570ac653-63c2-4fcb-8682-18d6fcbab8c6",
   "metadata": {},
   "outputs": [],
   "source": [
    "# methods"
   ]
  },
  {
   "cell_type": "code",
   "execution_count": null,
   "id": "9aca5f4f-bb59-4324-aebe-2052bcf015cc",
   "metadata": {},
   "outputs": [],
   "source": [
    "class stu:"
   ]
  },
  {
   "cell_type": "code",
   "execution_count": 35,
   "id": "92939efc-b49c-4f63-b386-959ad12fe0f4",
   "metadata": {},
   "outputs": [
    {
     "name": "stdout",
     "output_type": "stream",
     "text": [
      "hi rahul your avg: 13.333333333333334\n",
      "hi rakesh your avg: 13.333333333333334\n"
     ]
    }
   ],
   "source": [
    "class stu:\n",
    "    def __init__(self,name,marks):\n",
    "        \n",
    "        self.marks=marks\n",
    "        self.name=name\n",
    "       \n",
    "\n",
    "    def get_avg(self):\n",
    "        sum=0\n",
    "        for i in self.marks:\n",
    "            sum=sum+i\n",
    "\n",
    "        print(\"hi\",self.name,\"your avg:\",sum/3)\n",
    "\n",
    "s1=stu(\"rahul\",[10,10,20])\n",
    "s1.get_avg()\n",
    "\n",
    "s1.name=\"rakesh\"\n",
    "s1.get_avg()"
   ]
  },
  {
   "cell_type": "code",
   "execution_count": 32,
   "id": "41e3a284-2911-441c-b42d-57d7b725371a",
   "metadata": {},
   "outputs": [
    {
     "name": "stdout",
     "output_type": "stream",
     "text": [
      "hi ajay your avg score is :  60.0\n",
      "hi rakesh your avg score is :  60.0\n"
     ]
    }
   ],
   "source": [
    "class Student:\n",
    "\n",
    "    def __init__(self,name,marks):\n",
    "        self.name=name\n",
    "        self.marks=marks\n",
    "\n",
    "    def get_avg(self):\n",
    "        sum=0\n",
    "        for i in self.marks:\n",
    "            sum=sum+i\n",
    "\n",
    "        print(\"hi\" ,self.name,\"your avg score is : \",sum/3)\n",
    "\n",
    "s1=Student(\"ajay\",[30,50,100])\n",
    "s1.get_avg()\n",
    "\n",
    "s1.name=\"rakesh\"\n",
    "s1.get_avg()"
   ]
  },
  {
   "cell_type": "code",
   "execution_count": 36,
   "id": "8840149c-b84b-459e-a847-e54afac5cc80",
   "metadata": {},
   "outputs": [],
   "source": [
    "# static method"
   ]
  },
  {
   "cell_type": "code",
   "execution_count": 37,
   "id": "4ca7e003-1249-411e-8a11-1dc704157408",
   "metadata": {},
   "outputs": [
    {
     "name": "stdout",
     "output_type": "stream",
     "text": [
      "welcome student : rahul\n",
      "85\n",
      "jaipur\n"
     ]
    }
   ],
   "source": [
    "class Student:\n",
    "    \n",
    "    collage_name=\"kota univercity\"   \n",
    "    name=\"mohan\"  \n",
    "\n",
    "    @staticmethod                   # decorator\n",
    "    def state():\n",
    "        print(\"jaipur\")\n",
    "    def __init__(self,name,marks):\n",
    "        self.name=name  \n",
    "        self.marks=marks\n",
    "\n",
    "    def welcome(self):\n",
    "        print(\"welcome student :\",self.name)\n",
    "\n",
    "    def get_marks(self):\n",
    "        return self.marks\n",
    "        \n",
    "        \n",
    "\n",
    "s1=Student(\"rahul\",85)\n",
    "s1.welcome()\n",
    "print(s1.get_marks())\n",
    "s1.state() \n",
    "# yah mmethod bina self likhe chlta hai"
   ]
  },
  {
   "cell_type": "code",
   "execution_count": null,
   "id": "2246eb96-9132-4010-9dec-f95b178d4294",
   "metadata": {},
   "outputs": [],
   "source": []
  }
 ],
 "metadata": {
  "kernelspec": {
   "display_name": "Python 3 (ipykernel)",
   "language": "python",
   "name": "python3"
  },
  "language_info": {
   "codemirror_mode": {
    "name": "ipython",
    "version": 3
   },
   "file_extension": ".py",
   "mimetype": "text/x-python",
   "name": "python",
   "nbconvert_exporter": "python",
   "pygments_lexer": "ipython3",
   "version": "3.10.11"
  }
 },
 "nbformat": 4,
 "nbformat_minor": 5
}

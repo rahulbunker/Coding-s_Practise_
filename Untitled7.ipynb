{
 "cells": [
  {
   "cell_type": "code",
   "execution_count": 1,
   "id": "bf03ed34-6a7a-4325-adcb-6af87452197b",
   "metadata": {},
   "outputs": [],
   "source": [
    "# list in python "
   ]
  },
  {
   "cell_type": "code",
   "execution_count": 2,
   "id": "3f80a2aa-646c-455f-bd4c-ac7a538e0e05",
   "metadata": {},
   "outputs": [],
   "source": [
    "# list:data structure ==> that we use for stroing data\n",
    "# collection of element having index position , sequence , collection of element \n",
    "# a built in data type that stores set of values \n",
    "# it can store elemtes of diffrent types (interger , float , string etc)"
   ]
  },
  {
   "cell_type": "code",
   "execution_count": 3,
   "id": "fdd70b46-f96f-41f5-886a-7bf4509c06e4",
   "metadata": {},
   "outputs": [
    {
     "data": {
      "text/plain": [
       "25"
      ]
     },
     "execution_count": 3,
     "metadata": {},
     "output_type": "execute_result"
    }
   ],
   "source": [
    "marks=[25,554,55]\n",
    "marks[0]"
   ]
  },
  {
   "cell_type": "code",
   "execution_count": 4,
   "id": "1de4783e-9c5a-4152-b3f1-d30bf5bc1a0f",
   "metadata": {},
   "outputs": [
    {
     "data": {
      "text/plain": [
       "'rahul'"
      ]
     },
     "execution_count": 4,
     "metadata": {},
     "output_type": "execute_result"
    }
   ],
   "source": [
    "student=[\"rahul\",5,\"mohit\"]\n",
    "student[0]"
   ]
  },
  {
   "cell_type": "code",
   "execution_count": 5,
   "id": "2a8ae2b5-8356-43e3-bee7-b92e5e353503",
   "metadata": {},
   "outputs": [
    {
     "data": {
      "text/plain": [
       "['rahul', 5, 'mohit']"
      ]
     },
     "execution_count": 5,
     "metadata": {},
     "output_type": "execute_result"
    }
   ],
   "source": [
    "student"
   ]
  },
  {
   "cell_type": "code",
   "execution_count": 6,
   "id": "3362bf48-b8a4-4444-a9b8-9c6e43bde3a4",
   "metadata": {},
   "outputs": [],
   "source": [
    "# list is mutable but string is imutable"
   ]
  },
  {
   "cell_type": "code",
   "execution_count": 7,
   "id": "307d9fb3-1787-4235-9b85-1e1195c98d84",
   "metadata": {},
   "outputs": [
    {
     "data": {
      "text/plain": [
       "3"
      ]
     },
     "execution_count": 7,
     "metadata": {},
     "output_type": "execute_result"
    }
   ],
   "source": [
    "len(student)"
   ]
  },
  {
   "cell_type": "code",
   "execution_count": 8,
   "id": "5cd48e78-9d0b-426b-93d9-dab08ed83ed0",
   "metadata": {},
   "outputs": [],
   "source": [
    "# list slicing\n"
   ]
  },
  {
   "cell_type": "code",
   "execution_count": 20,
   "id": "6011c826-1a9a-4900-8739-54150790d6c3",
   "metadata": {},
   "outputs": [
    {
     "data": {
      "text/plain": [
       "[1, 23, 4, 56, 78, 12, 23, 45, 56, 78, 89]"
      ]
     },
     "execution_count": 20,
     "metadata": {},
     "output_type": "execute_result"
    }
   ],
   "source": [
    "x=[1,23,4,56,78,12,23,45,56,78,89]\n",
    "x"
   ]
  },
  {
   "cell_type": "code",
   "execution_count": 10,
   "id": "9777bc1f-ce22-4607-90ae-1c9d36173f58",
   "metadata": {},
   "outputs": [
    {
     "data": {
      "text/plain": [
       "[1, 78, 56]"
      ]
     },
     "execution_count": 10,
     "metadata": {},
     "output_type": "execute_result"
    }
   ],
   "source": [
    "x[::4]"
   ]
  },
  {
   "cell_type": "code",
   "execution_count": 11,
   "id": "7d6d9dfe-64ad-4dbf-ae78-90c1985802b6",
   "metadata": {},
   "outputs": [],
   "source": [
    "x.append(500)"
   ]
  },
  {
   "cell_type": "code",
   "execution_count": 12,
   "id": "9790aab0-8ce0-4198-b9d6-9313285b3906",
   "metadata": {},
   "outputs": [
    {
     "data": {
      "text/plain": [
       "[1, 23, 4, 56, 78, 12, 23, 45, 56, 78, 89, 500]"
      ]
     },
     "execution_count": 12,
     "metadata": {},
     "output_type": "execute_result"
    }
   ],
   "source": [
    "x"
   ]
  },
  {
   "cell_type": "code",
   "execution_count": 15,
   "id": "ef0b17fd-fc78-46d1-8d8c-fcaec5541abb",
   "metadata": {},
   "outputs": [],
   "source": [
    "x.sort()"
   ]
  },
  {
   "cell_type": "code",
   "execution_count": 16,
   "id": "3e97123a-c19e-4bfd-8c7d-e56df1c1a814",
   "metadata": {},
   "outputs": [
    {
     "data": {
      "text/plain": [
       "[1, 4, 12, 23, 23, 45, 56, 56, 78, 78, 89, 500]"
      ]
     },
     "execution_count": 16,
     "metadata": {},
     "output_type": "execute_result"
    }
   ],
   "source": [
    "x"
   ]
  },
  {
   "cell_type": "code",
   "execution_count": 17,
   "id": "9e5d7f24-5ecb-4126-a6e8-684fe9dbf3bc",
   "metadata": {},
   "outputs": [],
   "source": [
    "x.sort(reverse=True)"
   ]
  },
  {
   "cell_type": "code",
   "execution_count": 18,
   "id": "add44fdc-2c9d-440b-a8c4-aee9069f8816",
   "metadata": {},
   "outputs": [
    {
     "data": {
      "text/plain": [
       "[500, 89, 78, 78, 56, 56, 45, 23, 23, 12, 4, 1]"
      ]
     },
     "execution_count": 18,
     "metadata": {},
     "output_type": "execute_result"
    }
   ],
   "source": [
    "x"
   ]
  },
  {
   "cell_type": "code",
   "execution_count": 19,
   "id": "f59b7591-ed32-4fda-98c1-745e6d56c045",
   "metadata": {},
   "outputs": [
    {
     "data": {
      "text/plain": [
       "[500, 89, 78, 78, 56, 56, 45, 23, 23, 12, 4, 1]"
      ]
     },
     "execution_count": 19,
     "metadata": {},
     "output_type": "execute_result"
    }
   ],
   "source": [
    "x"
   ]
  },
  {
   "cell_type": "code",
   "execution_count": 21,
   "id": "5045846f-f525-47a5-a390-27f29d2b9bed",
   "metadata": {},
   "outputs": [
    {
     "data": {
      "text/plain": [
       "[1, 23, 4, 56, 78, 12, 23, 45, 56, 78, 89]"
      ]
     },
     "execution_count": 21,
     "metadata": {},
     "output_type": "execute_result"
    }
   ],
   "source": [
    "x"
   ]
  },
  {
   "cell_type": "code",
   "execution_count": 22,
   "id": "defe0c0f-5d5c-46bd-ac21-d1493ca63dca",
   "metadata": {},
   "outputs": [],
   "source": [
    "x.reverse()"
   ]
  },
  {
   "cell_type": "code",
   "execution_count": 23,
   "id": "2755bfd9-609c-4e4c-af52-31efa5f6a891",
   "metadata": {},
   "outputs": [
    {
     "data": {
      "text/plain": [
       "[89, 78, 56, 45, 23, 12, 78, 56, 4, 23, 1]"
      ]
     },
     "execution_count": 23,
     "metadata": {},
     "output_type": "execute_result"
    }
   ],
   "source": [
    "x"
   ]
  },
  {
   "cell_type": "code",
   "execution_count": 24,
   "id": "6abcd3fb-fb36-4c22-9ae5-6a62ab12c68e",
   "metadata": {},
   "outputs": [],
   "source": [
    "x.insert(0,7895461)"
   ]
  },
  {
   "cell_type": "code",
   "execution_count": 25,
   "id": "27371104-6460-4a66-a23a-da90d22a5829",
   "metadata": {},
   "outputs": [
    {
     "data": {
      "text/plain": [
       "[7895461, 89, 78, 56, 45, 23, 12, 78, 56, 4, 23, 1]"
      ]
     },
     "execution_count": 25,
     "metadata": {},
     "output_type": "execute_result"
    }
   ],
   "source": [
    "x\n"
   ]
  },
  {
   "cell_type": "code",
   "execution_count": 26,
   "id": "d3281e66-9e8a-41dc-8b92-489d82c94017",
   "metadata": {},
   "outputs": [],
   "source": [
    "x.remove(89)"
   ]
  },
  {
   "cell_type": "code",
   "execution_count": 27,
   "id": "45ef48f4-4cd0-43a2-9a9d-b710249f050b",
   "metadata": {},
   "outputs": [
    {
     "data": {
      "text/plain": [
       "[7895461, 78, 56, 45, 23, 12, 78, 56, 4, 23, 1]"
      ]
     },
     "execution_count": 27,
     "metadata": {},
     "output_type": "execute_result"
    }
   ],
   "source": [
    "x"
   ]
  },
  {
   "cell_type": "code",
   "execution_count": 29,
   "id": "0461df0b-0a51-4060-9329-73dd61f976af",
   "metadata": {},
   "outputs": [
    {
     "data": {
      "text/plain": [
       "7895461"
      ]
     },
     "execution_count": 29,
     "metadata": {},
     "output_type": "execute_result"
    }
   ],
   "source": [
    "x.pop(0)"
   ]
  },
  {
   "cell_type": "code",
   "execution_count": 30,
   "id": "39fd2b8c-b2fc-44a4-9c25-038370ba7ffb",
   "metadata": {},
   "outputs": [
    {
     "data": {
      "text/plain": [
       "[78, 56, 45, 23, 12, 78, 56, 4, 23, 1]"
      ]
     },
     "execution_count": 30,
     "metadata": {},
     "output_type": "execute_result"
    }
   ],
   "source": [
    "x"
   ]
  },
  {
   "cell_type": "code",
   "execution_count": 31,
   "id": "79709011-8cb4-45e6-8e3c-b2443dce5704",
   "metadata": {},
   "outputs": [
    {
     "ename": "TypeError",
     "evalue": "list.append() takes exactly one argument (2 given)",
     "output_type": "error",
     "traceback": [
      "\u001b[1;31m---------------------------------------------------------------------------\u001b[0m",
      "\u001b[1;31mTypeError\u001b[0m                                 Traceback (most recent call last)",
      "Cell \u001b[1;32mIn[31], line 1\u001b[0m\n\u001b[1;32m----> 1\u001b[0m \u001b[43mx\u001b[49m\u001b[38;5;241;43m.\u001b[39;49m\u001b[43mappend\u001b[49m\u001b[43m(\u001b[49m\u001b[38;5;241;43m12154\u001b[39;49m\u001b[43m,\u001b[49m\u001b[38;5;241;43m546546132\u001b[39;49m\u001b[43m)\u001b[49m\n",
      "\u001b[1;31mTypeError\u001b[0m: list.append() takes exactly one argument (2 given)"
     ]
    }
   ],
   "source": [
    "x.append(12154,546546132)"
   ]
  },
  {
   "cell_type": "code",
   "execution_count": 32,
   "id": "7bb58cdc-21de-4b64-88ca-71420655970f",
   "metadata": {},
   "outputs": [],
   "source": [
    "x.append(\"oh hello\")"
   ]
  },
  {
   "cell_type": "code",
   "execution_count": 33,
   "id": "57fd30ab-51c9-4d55-a156-994ac085ae44",
   "metadata": {},
   "outputs": [
    {
     "data": {
      "text/plain": [
       "[78, 56, 45, 23, 12, 78, 56, 4, 23, 1, 'oh hello']"
      ]
     },
     "execution_count": 33,
     "metadata": {},
     "output_type": "execute_result"
    }
   ],
   "source": [
    "x"
   ]
  },
  {
   "cell_type": "code",
   "execution_count": 34,
   "id": "129542ef-37cc-4b14-8034-4e7dfdf9121a",
   "metadata": {},
   "outputs": [
    {
     "data": {
      "text/plain": [
       "[78, 56, 45, 23, 12, 78, 56, 4, 23, 1, 'oh hello', 'h', 'e', 'l', 'l', 'o']"
      ]
     },
     "execution_count": 34,
     "metadata": {},
     "output_type": "execute_result"
    }
   ],
   "source": [
    "x.extend(\"hello\")\n",
    "x"
   ]
  },
  {
   "cell_type": "code",
   "execution_count": 35,
   "id": "22dc160b-a679-45ac-a943-966ecebb43de",
   "metadata": {},
   "outputs": [
    {
     "data": {
      "text/plain": [
       "[78,\n",
       " 56,\n",
       " 45,\n",
       " 23,\n",
       " 12,\n",
       " 78,\n",
       " 56,\n",
       " 4,\n",
       " 23,\n",
       " 1,\n",
       " 'oh hello',\n",
       " 'h',\n",
       " 'e',\n",
       " 'l',\n",
       " 'l',\n",
       " 'o',\n",
       " 'rinku']"
      ]
     },
     "execution_count": 35,
     "metadata": {},
     "output_type": "execute_result"
    }
   ],
   "source": [
    "x.extend([\"rinku\"])\n",
    "x"
   ]
  },
  {
   "cell_type": "code",
   "execution_count": 36,
   "id": "f11a9865-7e21-4dca-828b-43b7ada851f1",
   "metadata": {},
   "outputs": [
    {
     "data": {
      "text/plain": [
       "16"
      ]
     },
     "execution_count": 36,
     "metadata": {},
     "output_type": "execute_result"
    }
   ],
   "source": [
    "x.index(\"rinku\")"
   ]
  },
  {
   "cell_type": "code",
   "execution_count": 38,
   "id": "1553d872-8fc2-4a7a-a35f-f6efa827808f",
   "metadata": {},
   "outputs": [],
   "source": [
    "del x[16]"
   ]
  },
  {
   "cell_type": "code",
   "execution_count": 39,
   "id": "431a5675-f02e-494f-8cf2-4e395ad83c0d",
   "metadata": {},
   "outputs": [
    {
     "data": {
      "text/plain": [
       "[78, 56, 45, 23, 12, 78, 56, 4, 23, 1, 'oh hello', 'h', 'e', 'l', 'l', 'o']"
      ]
     },
     "execution_count": 39,
     "metadata": {},
     "output_type": "execute_result"
    }
   ],
   "source": [
    "x"
   ]
  },
  {
   "cell_type": "code",
   "execution_count": 42,
   "id": "4fdef2b5-137a-4cb3-8931-05b98c0f026f",
   "metadata": {},
   "outputs": [
    {
     "name": "stdout",
     "output_type": "stream",
     "text": [
      "78\n",
      "56\n",
      "45\n",
      "23\n",
      "12\n",
      "78\n",
      "56\n",
      "4\n",
      "23\n",
      "1\n",
      "oh hello\n",
      "h\n",
      "e\n",
      "l\n",
      "l\n",
      "o\n"
     ]
    }
   ],
   "source": [
    "for i in x:\n",
    "    print(i)"
   ]
  },
  {
   "cell_type": "code",
   "execution_count": 43,
   "id": "3b462725-8b81-4982-8b09-4cac5dfea0aa",
   "metadata": {},
   "outputs": [
    {
     "name": "stdout",
     "output_type": "stream",
     "text": [
      "oh hello\n",
      "h\n",
      "e\n",
      "l\n",
      "l\n",
      "o\n"
     ]
    }
   ],
   "source": [
    "for i in x:\n",
    "    if(type(i) is str):\n",
    "        print(i)"
   ]
  },
  {
   "cell_type": "code",
   "execution_count": 44,
   "id": "c156df07-9c58-4f3a-8b35-a571fcd1ba00",
   "metadata": {},
   "outputs": [
    {
     "data": {
      "text/plain": [
       "[6084, 3136, 2025, 529, 144, 6084, 3136, 16, 529, 1]"
      ]
     },
     "execution_count": 44,
     "metadata": {},
     "output_type": "execute_result"
    }
   ],
   "source": [
    "n=[]\n",
    "for i in x:\n",
    "    if(type(i) is int):\n",
    "        n.append(i**2)\n",
    "\n",
    "n"
   ]
  },
  {
   "cell_type": "code",
   "execution_count": null,
   "id": "373a43d7-a5fc-49aa-9a2f-0ee666d55320",
   "metadata": {},
   "outputs": [],
   "source": [
    "name=[\"rahul\",\"jatin\",\""
   ]
  }
 ],
 "metadata": {
  "kernelspec": {
   "display_name": "Python 3 (ipykernel)",
   "language": "python",
   "name": "python3"
  },
  "language_info": {
   "codemirror_mode": {
    "name": "ipython",
    "version": 3
   },
   "file_extension": ".py",
   "mimetype": "text/x-python",
   "name": "python",
   "nbconvert_exporter": "python",
   "pygments_lexer": "ipython3",
   "version": "3.10.11"
  }
 },
 "nbformat": 4,
 "nbformat_minor": 5
}

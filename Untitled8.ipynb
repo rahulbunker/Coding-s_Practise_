{
 "cells": [
  {
   "cell_type": "code",
   "execution_count": 16,
   "id": "4d29a9f9-b26e-496b-b9ad-d9450d3416c6",
   "metadata": {},
   "outputs": [
    {
     "data": {
      "text/plain": [
       "dict"
      ]
     },
     "execution_count": 16,
     "metadata": {},
     "output_type": "execute_result"
    }
   ],
   "source": [
    "mydictionary={10:\"rahul\" ,20:'yash', 30:\"mohit\" , 40:\"golu\"}\n",
    "type(mydictionary)"
   ]
  },
  {
   "cell_type": "code",
   "execution_count": 8,
   "id": "1bee4cc8-5139-415a-b1d1-1d8873625b90",
   "metadata": {},
   "outputs": [
    {
     "name": "stdout",
     "output_type": "stream",
     "text": [
      "{10: 'rahul', 20: 'yash'}\n"
     ]
    }
   ],
   "source": [
    "print(mydictionary)"
   ]
  },
  {
   "cell_type": "code",
   "execution_count": 17,
   "id": "e4f3f7fe-fa89-4d13-b380-fab78c4f1128",
   "metadata": {},
   "outputs": [
    {
     "data": {
      "text/plain": [
       "{10: 'rahul', 20: 'yash', 30: 'mohit', 40: 'golu'}"
      ]
     },
     "execution_count": 17,
     "metadata": {},
     "output_type": "execute_result"
    }
   ],
   "source": [
    "mydictionary"
   ]
  },
  {
   "cell_type": "code",
   "execution_count": 21,
   "id": "4bd119f0-93c9-4676-b869-4410bdbb20a3",
   "metadata": {},
   "outputs": [
    {
     "data": {
      "text/plain": [
       "'golu'"
      ]
     },
     "execution_count": 21,
     "metadata": {},
     "output_type": "execute_result"
    }
   ],
   "source": [
    "mydictionary[40]"
   ]
  },
  {
   "cell_type": "code",
   "execution_count": 22,
   "id": "bf9c79d7-8cb4-4ca5-8cb8-5a8b6476869c",
   "metadata": {},
   "outputs": [
    {
     "data": {
      "text/plain": [
       "{10: 'rahul', 20: 'yash', 30: 'mohit', 40: 'babu'}"
      ]
     },
     "execution_count": 22,
     "metadata": {},
     "output_type": "execute_result"
    }
   ],
   "source": [
    "mydictionary[40]=\"babu\"\n",
    "mydictionary"
   ]
  },
  {
   "cell_type": "code",
   "execution_count": 23,
   "id": "29a854cc-01d1-4ce3-b4a9-93c4a010f9ff",
   "metadata": {},
   "outputs": [
    {
     "data": {
      "text/plain": [
       "{10: 'rahul', 20: 'yash', 30: 'mohit', 40: 'babu', 50: 'ankit'}"
      ]
     },
     "execution_count": 23,
     "metadata": {},
     "output_type": "execute_result"
    }
   ],
   "source": [
    "mydictionary[50]=\"ankit\"\n",
    "mydictionary"
   ]
  },
  {
   "cell_type": "code",
   "execution_count": 34,
   "id": "00f86ab1-dfd0-499a-8392-1397849360a4",
   "metadata": {},
   "outputs": [
    {
     "name": "stdout",
     "output_type": "stream",
     "text": [
      "{10: 'rahul', 40: 'babu', 50: 'ankit'}\n"
     ]
    }
   ],
   "source": [
    "x=mydictionary.pop(30)\n",
    "print(mydictionary)"
   ]
  },
  {
   "cell_type": "code",
   "execution_count": 35,
   "id": "35de6372-a422-47f5-b29e-8e3aa8eda1cf",
   "metadata": {},
   "outputs": [
    {
     "data": {
      "text/plain": [
       "'mohit'"
      ]
     },
     "execution_count": 35,
     "metadata": {},
     "output_type": "execute_result"
    }
   ],
   "source": [
    "x"
   ]
  },
  {
   "cell_type": "code",
   "execution_count": null,
   "id": "0c7b58ab-d1f8-451d-84ce-7e1fe36155f1",
   "metadata": {},
   "outputs": [],
   "source": []
  },
  {
   "cell_type": "code",
   "execution_count": 37,
   "id": "66c6485f-7a1b-4390-a279-5896a570e4f1",
   "metadata": {},
   "outputs": [
    {
     "name": "stdout",
     "output_type": "stream",
     "text": [
      "r\n",
      "a\n",
      "h\n",
      "u\n",
      "l\n"
     ]
    }
   ],
   "source": [
    "for i in\"rahul\":\n",
    "    print(i)"
   ]
  },
  {
   "cell_type": "code",
   "execution_count": 40,
   "id": "c209ff0c-57dd-4285-ab3e-cafe84da6ea2",
   "metadata": {},
   "outputs": [
    {
     "ename": "SyntaxError",
     "evalue": "':' expected after dictionary key (589017994.py, line 1)",
     "output_type": "error",
     "traceback": [
      "\u001b[1;36m  Cell \u001b[1;32mIn[40], line 1\u001b[1;36m\u001b[0m\n\u001b[1;33m    mydictionary={10:\"rahul\" ,20:'yash', 30:\"mohit\" , 40:\"golu\", 10;\"manisha\"}\u001b[0m\n\u001b[1;37m                                                                  ^\u001b[0m\n\u001b[1;31mSyntaxError\u001b[0m\u001b[1;31m:\u001b[0m ':' expected after dictionary key\n"
     ]
    }
   ],
   "source": [
    "mydictionary={10:\"rahul\" ,20:'yash', 30:\"mohit\" , 40:\"golu\"}\n",
    "print(mydictionary)"
   ]
  },
  {
   "cell_type": "code",
   "execution_count": 42,
   "id": "29bfcf75-e43b-41ca-a98b-3fa572b35ce2",
   "metadata": {},
   "outputs": [],
   "source": [
    "mydictionary={20==\"dheeraj\"}"
   ]
  },
  {
   "cell_type": "code",
   "execution_count": 43,
   "id": "afbe4f46-5ddf-437a-b840-b971fbcc277e",
   "metadata": {},
   "outputs": [
    {
     "data": {
      "text/plain": [
       "{False}"
      ]
     },
     "execution_count": 43,
     "metadata": {},
     "output_type": "execute_result"
    }
   ],
   "source": [
    "mydictionary"
   ]
  },
  {
   "cell_type": "code",
   "execution_count": 46,
   "id": "c4a1e2d0-4b99-485a-a6f0-b8437b3805a7",
   "metadata": {},
   "outputs": [],
   "source": [
    "mydictionary={10:\"rahul\" ,20:'yash', 30:\"mohit\" , 40:\"golu\"}\n",
    "mydictionary[30]=\"ajay\""
   ]
  },
  {
   "cell_type": "code",
   "execution_count": 45,
   "id": "ff0c804f-0f8e-4843-a661-8d6725ad3944",
   "metadata": {},
   "outputs": [
    {
     "data": {
      "text/plain": [
       "{False}"
      ]
     },
     "execution_count": 45,
     "metadata": {},
     "output_type": "execute_result"
    }
   ],
   "source": [
    "mydictionary"
   ]
  },
  {
   "cell_type": "code",
   "execution_count": 6,
   "id": "957c6b06-ab8c-4f57-9b61-eeac7462bf53",
   "metadata": {},
   "outputs": [
    {
     "data": {
      "text/plain": [
       "{10: 'rahul', 20: 'yash', 30: 'ajay', 40: 'golu'}"
      ]
     },
     "execution_count": 6,
     "metadata": {},
     "output_type": "execute_result"
    }
   ],
   "source": [
    "mydictionary={10:\"rahul\" ,20:'yash', 30:\"mohit\" , 40:\"golu\"}\n",
    "mydictionary[30]=\"ajay\"\n",
    "mydictionary"
   ]
  },
  {
   "cell_type": "code",
   "execution_count": 8,
   "id": "10033a1d-1af1-420b-a3ae-c07ebb7fbfa3",
   "metadata": {},
   "outputs": [
    {
     "data": {
      "text/plain": [
       "{10: 'apple'}"
      ]
     },
     "execution_count": 8,
     "metadata": {},
     "output_type": "execute_result"
    }
   ],
   "source": [
    "mydic={10:\"mango\" , 10:\"apple\"}\n",
    "mydic"
   ]
  },
  {
   "cell_type": "code",
   "execution_count": 19,
   "id": "8f8d1a35-ebe4-47e3-b902-9143467c7dd0",
   "metadata": {},
   "outputs": [
    {
     "name": "stdout",
     "output_type": "stream",
     "text": [
      "{'r': 1, 'a': 1, 'h': 1, 'u': 1, 'l': 1}\n"
     ]
    }
   ],
   "source": [
    "mydict={}\n",
    "for i in \"rahul\":\n",
    "     mydict[i]=1\n",
    "print(mydict)    "
   ]
  },
  {
   "cell_type": "code",
   "execution_count": 22,
   "id": "f4d64b01-f5c6-4a20-867c-95e3e76afd98",
   "metadata": {},
   "outputs": [
    {
     "data": {
      "text/plain": [
       "{'r': 1, 'a': 1, 'h': 1, 'u': 1, 'l': 1, 'hhh': 123}"
      ]
     },
     "execution_count": 22,
     "metadata": {},
     "output_type": "execute_result"
    }
   ],
   "source": [
    "mydict[\"a\"]=1\n",
    "mydict"
   ]
  },
  {
   "cell_type": "code",
   "execution_count": 30,
   "id": "692cdcd3-def2-4b93-8929-9902d9b02597",
   "metadata": {},
   "outputs": [
    {
     "name": "stdout",
     "output_type": "stream",
     "text": [
      "r\n",
      "a\n",
      "h\n",
      "u\n",
      "l\n",
      "total words:  5\n"
     ]
    }
   ],
   "source": [
    "count=0\n",
    "mydict={}\n",
    "for i in \"rahul\":\n",
    "    print(i)\n",
    "    count+=1\n",
    "print(\"total words: \",count)    "
   ]
  },
  {
   "cell_type": "code",
   "execution_count": 39,
   "id": "31943992-d897-4861-8e5b-d44af01b8f44",
   "metadata": {},
   "outputs": [
    {
     "name": "stdout",
     "output_type": "stream",
     "text": [
      "{'total': 9}\n"
     ]
    }
   ],
   "source": [
    "mydict={\"total\":0}\n",
    "\n",
    "for i in \"123456789\":\n",
    "    mydict[\"total\"]=mydict[\"total\"]+1\n",
    "print(mydict)\n",
    "    "
   ]
  },
  {
   "cell_type": "code",
   "execution_count": 48,
   "id": "43f59ce0-7cce-4786-91d0-65e152f89838",
   "metadata": {},
   "outputs": [
    {
     "name": "stdout",
     "output_type": "stream",
     "text": [
      "{'e': 3, 'o': 1, 'a': 2, 'u': 1, 'i': 1}\n",
      "{'h': 3, 'l': 3, ' ': 5, 'm': 2, 'r': 3, '.': 1}\n"
     ]
    }
   ],
   "source": [
    "mydict={}\n",
    "cons={}\n",
    "for i in \"hello mr. rahul i am here\":\n",
    "    if i in \"aeiou\":\n",
    "        if i in mydict:\n",
    "            mydict[i]=mydict[i]+1\n",
    "        else:\n",
    "            mydict[i]=1\n",
    "    elif (i  not in \"aeiou\"):\n",
    "        if i in cons:\n",
    "            cons[i]=cons[i]+1\n",
    "        else:\n",
    "            cons[i]=1\n",
    "        \n",
    "print(mydict) \n",
    "print(cons)"
   ]
  },
  {
   "cell_type": "code",
   "execution_count": 49,
   "id": "08bf95fd-012c-49c5-abf3-f16861adf78d",
   "metadata": {},
   "outputs": [
    {
     "name": "stdout",
     "output_type": "stream",
     "text": [
      "{'e': 3, 'o': 1, 'a': 2, 'u': 1, 'i': 1}\n",
      "{'h': 3, 'l': 3, ' ': 5, 'm': 2, 'r': 3, '.': 1}\n"
     ]
    }
   ],
   "source": [
    "mydict={}\n",
    "cons={}\n",
    "for i in \"hello mr. rahul i am here\":\n",
    "    if i in \"aeiou\":\n",
    "        if i in mydict:\n",
    "            mydict[i]=mydict[i]+1\n",
    "        else:\n",
    "            mydict[i]=1\n",
    "    elif (i  not in \"aeiou\"):\n",
    "        if i in cons:\n",
    "            cons[i]=cons[i]+1\n",
    "        else:\n",
    "            cons[i]=1\n",
    "\n",
    "print(mydict) \n",
    "print(cons)"
   ]
  },
  {
   "cell_type": "code",
   "execution_count": 54,
   "id": "5b0a61f7-e7c5-4828-a3a1-a0380427d684",
   "metadata": {},
   "outputs": [
    {
     "name": "stdout",
     "output_type": "stream",
     "text": [
      "{'e': 3, 'o': 1, 'a': 1}\n",
      "{'r': 2, 'g': 1, 'x': 1, ' ': 1, 's': 1, 'f': 1, 't': 1, 'w': 1}\n"
     ]
    }
   ],
   "source": [
    "vowels={}\n",
    "consonate={}\n",
    "for i in \"regex software\":\n",
    "    if i in \"aeiou\":\n",
    "        if i in vowels:\n",
    "            vowels[i]+=1\n",
    "        else:\n",
    "            vowels[i]=1\n",
    "    else:\n",
    "        if i in consonate:\n",
    "            consonate[i]+=1\n",
    "        else:\n",
    "            consonate[i]=1\n",
    "print(vowels)\n",
    "print(consonate)"
   ]
  },
  {
   "cell_type": "code",
   "execution_count": 58,
   "id": "c892cfb3-8393-40dd-9153-18b47b1af071",
   "metadata": {},
   "outputs": [
    {
     "name": "stdout",
     "output_type": "stream",
     "text": [
      "narcissist\n"
     ]
    }
   ],
   "source": [
    "n=9474\n",
    "sum=0\n",
    "temp=n\n",
    "rem=0\n",
    "while(n>0):\n",
    "    rem=n%10\n",
    "    sum=sum+rem*rem*rem*rem\n",
    "    n=n//10\n",
    "if(temp==sum):\n",
    "    print(\"narcissist\")\n",
    "else:\n",
    "    print(\"not\")\n"
   ]
  },
  {
   "cell_type": "code",
   "execution_count": 64,
   "id": "a5bd2a02-572d-4d92-bee8-69e2d9bc17c0",
   "metadata": {},
   "outputs": [
    {
     "name": "stdin",
     "output_type": "stream",
     "text": [
      "please value  12.123465444\n"
     ]
    },
    {
     "data": {
      "text/plain": [
       "12.12347"
      ]
     },
     "execution_count": 64,
     "metadata": {},
     "output_type": "execute_result"
    }
   ],
   "source": [
    "x=float(input(\"please value \"))\n",
    "round(x,5)"
   ]
  },
  {
   "cell_type": "code",
   "execution_count": 69,
   "id": "ce01f681-0f5d-4061-9523-db1910d5b66a",
   "metadata": {},
   "outputs": [
    {
     "name": "stdout",
     "output_type": "stream",
     "text": [
      "arm\n"
     ]
    }
   ],
   "source": [
    "n=153\n",
    "sum=0\n",
    "temp=n\n",
    "rem=0\n",
    "while(n>0):\n",
    "    rem=n%10\n",
    "    sum=sum+rem*rem*rem\n",
    "    n=n//10\n",
    "if(temp==sum):\n",
    "    print(\"arm\")\n",
    "else:\n",
    "    print(\"not\")\n",
    "\n"
   ]
  },
  {
   "cell_type": "markdown",
   "id": "5f85afb9-4e22-447b-b00c-ae84f5dfb82c",
   "metadata": {},
   "source": [
    "#### def print_factors(n):\n",
    "    print(\"Factors of\", n, \"are:\")\n",
    "    for i in range(1, n + 1):\n",
    "        if n % i == 0:\n",
    "            print(i)\n",
    "\n",
    "# User se input lena\n",
    "number = int(input())\n",
    "\n",
    "# Function ko call karke factors print karna\n",
    "print_factors(number)\n"
   ]
  },
  {
   "cell_type": "code",
   "execution_count": 8,
   "id": "c24cc89a-36b4-4ba1-99f9-d7aba664c725",
   "metadata": {
    "scrolled": true
   },
   "outputs": [
    {
     "name": "stdin",
     "output_type": "stream",
     "text": [
      "value  50\n"
     ]
    },
    {
     "name": "stdout",
     "output_type": "stream",
     "text": [
      "1\n",
      "2\n",
      "5\n",
      "10\n",
      "25\n",
      "50\n"
     ]
    }
   ],
   "source": [
    "x=int(input(\"value \"))\n",
    "for i in range(1,x+1):\n",
    "    if(x%i==0):\n",
    "\n",
    "\n",
    "        \n",
    "        print(i)\n",
    "        "
   ]
  },
  {
   "cell_type": "markdown",
   "id": "f0a7ad11-dd26-45b4-8db4-fccecbd524c5",
   "metadata": {},
   "source": []
  },
  {
   "cell_type": "code",
   "execution_count": 4,
   "id": "a4a1e964-f9e3-47f5-b267-7ab1121f043f",
   "metadata": {},
   "outputs": [
    {
     "ename": "SyntaxError",
     "evalue": "incomplete input (510251856.py, line 4)",
     "output_type": "error",
     "traceback": [
      "\u001b[1;36m  Cell \u001b[1;32mIn[4], line 4\u001b[1;36m\u001b[0m\n\u001b[1;33m    \u001b[0m\n\u001b[1;37m    ^\u001b[0m\n\u001b[1;31mSyntaxError\u001b[0m\u001b[1;31m:\u001b[0m incomplete input\n"
     ]
    }
   ],
   "source": [
    "x=input( \"enter = \")\n",
    "for i in range(1,6):\n",
    "\n",
    "    "
   ]
  },
  {
   "cell_type": "code",
   "execution_count": null,
   "id": "4c4ff459-2310-4019-8708-5f541eface04",
   "metadata": {},
   "outputs": [],
   "source": [
    "newlist=[]\n",
    "for i in range(6):\n",
    "    num = float(input(\"Enter float number  \"))\n",
    "    newlist.append(num)\n",
    "print(\"List of float numbers:\", newlist)\n"
   ]
  },
  {
   "cell_type": "code",
   "execution_count": 16,
   "id": "ecab2f7e-80bf-4acf-aabf-a108d4440f86",
   "metadata": {},
   "outputs": [
    {
     "name": "stdin",
     "output_type": "stream",
     "text": [
      "enter number ; 1\n",
      "enter number ; 2\n",
      "enter number ; 2\n",
      "enter number ; 2\n",
      "enter number ; 2\n"
     ]
    },
    {
     "name": "stdout",
     "output_type": "stream",
     "text": [
      "list of float number  [1.0, 2.0, 2.0, 2.0, 2.0]\n"
     ]
    }
   ],
   "source": [
    "newlist=[]\n",
    "for i in range(5):\n",
    "    n=float(input(\"enter number ;\" ))\n",
    "    newlist.append(n)\n",
    "print(\"list of float number \" ,newlist)"
   ]
  },
  {
   "cell_type": "code",
   "execution_count": 4,
   "id": "6112a50e-429b-4fdd-b72b-2d1517d27be7",
   "metadata": {},
   "outputs": [
    {
     "name": "stdin",
     "output_type": "stream",
     "text": [
      "Enter the radius of the cylinder (in cm):  10\n",
      "Enter the height of the cylinder (in cm):  10\n"
     ]
    },
    {
     "name": "stdout",
     "output_type": "stream",
     "text": [
      "Volume of the cylinder: 3141.5926535897934 cubic cm\n",
      "Total cost of milk: 125.66370614359174 Rs\n"
     ]
    }
   ],
   "source": []
  },
  {
   "cell_type": "code",
   "execution_count": 3,
   "id": "e41b7962-5b7a-4fa6-bad9-e3121ef666fe",
   "metadata": {},
   "outputs": [
    {
     "name": "stdin",
     "output_type": "stream",
     "text": [
      " cylender radies :  10\n",
      " cylender height :  10\n"
     ]
    },
    {
     "name": "stdout",
     "output_type": "stream",
     "text": [
      "total cost of 40 litts = 125.60000000000001 rs\n"
     ]
    }
   ],
   "source": [
    "x=float(input(\" cylender radies : \"))\n",
    "y=float(input(\" cylender height : \"))\n",
    "volume = 3.14*x**2*y\n",
    "# V=πr**2h\n",
    "# 1 litr milk rate is 40 rs\n",
    "# 1 litter = 1000 cm\n",
    "z=volume/1000*40\n",
    "print(\"total cost of 40 litts =\",z ,\"rs\")\n",
    "\n"
   ]
  },
  {
   "cell_type": "code",
   "execution_count": 1,
   "id": "8191d86d-0f55-4f46-bb82-84ddee3468dd",
   "metadata": {},
   "outputs": [
    {
     "data": {
      "text/plain": [
       "'hello'"
      ]
     },
     "execution_count": 1,
     "metadata": {},
     "output_type": "execute_result"
    }
   ],
   "source": [
    "\"hello\""
   ]
  },
  {
   "cell_type": "code",
   "execution_count": 2,
   "id": "06391121-7e40-407e-a001-0f2c457199b5",
   "metadata": {},
   "outputs": [
    {
     "data": {
      "text/plain": [
       "1"
      ]
     },
     "execution_count": 2,
     "metadata": {},
     "output_type": "execute_result"
    }
   ],
   "source": [
    "1"
   ]
  },
  {
   "cell_type": "code",
   "execution_count": 10,
   "id": "b33dfde4-59cd-4b24-b63a-346534ffb1d3",
   "metadata": {},
   "outputs": [
    {
     "name": "stdout",
     "output_type": "stream",
     "text": [
      "     * \n",
      "    * * \n",
      "   * * * \n",
      "  * * * * \n",
      " * * * * * \n"
     ]
    }
   ],
   "source": [
    "for i in range(1,6):\n",
    "    for j in range(6-i):\n",
    "        print(\"\",end=\" \")\n",
    "\n",
    "    for k in range(i):\n",
    "        print(\"*\",end=\" \")\n",
    "\n",
    "    print()"
   ]
  },
  {
   "cell_type": "code",
   "execution_count": 17,
   "id": "7bd03a0d-34b5-4c95-80d0-6f9156928d01",
   "metadata": {},
   "outputs": [
    {
     "name": "stdout",
     "output_type": "stream",
     "text": [
      "* \n",
      " * * \n",
      "  * * * \n",
      "   * * * * \n",
      "    * * * * * \n"
     ]
    }
   ],
   "source": [
    "for i in range(1,6):\n",
    "    for j in range(i-1):\n",
    "        print(\"\",end=\" \")\n",
    "\n",
    "    for k in range(i):\n",
    "        print(\"*\",end=\" \")\n",
    "\n",
    "    print()"
   ]
  },
  {
   "cell_type": "code",
   "execution_count": 24,
   "id": "383d16e6-7f98-4cb5-9ec6-57a7d79ea8eb",
   "metadata": {},
   "outputs": [
    {
     "name": "stdout",
     "output_type": "stream",
     "text": [
      "*********\n",
      " *******\n",
      "  *****\n",
      "   ***\n",
      "    *\n"
     ]
    }
   ],
   "source": [
    "def ulta_pyramid(rows):\n",
    "    for i in range(rows, 0, -1):\n",
    "        print(' ' * (rows - i) + '*' * (2 * i - 1))\n",
    "\n",
    "# Example usage:\n",
    "ulta_pyramid(5)\n"
   ]
  },
  {
   "cell_type": "code",
   "execution_count": 20,
   "id": "f66192fb-b050-4d91-b39a-fbf176eee8dc",
   "metadata": {},
   "outputs": [
    {
     "name": "stdout",
     "output_type": "stream",
     "text": [
      "*********\n",
      " *******\n",
      "  *****\n",
      "   ***\n",
      "    *\n"
     ]
    }
   ],
   "source": [
    "for i in range(5,0,-1):\n",
    "    print(\" \" * (5-i) +\"*\" *(2*i-1))"
   ]
  },
  {
   "cell_type": "code",
   "execution_count": 21,
   "id": "feb09846-42f4-4eb9-8f32-4150a4012a42",
   "metadata": {},
   "outputs": [
    {
     "name": "stdout",
     "output_type": "stream",
     "text": [
      "* * * * *\n",
      " * * * *\n",
      "  * * *\n",
      "   * *\n",
      "    *\n"
     ]
    }
   ],
   "source": [
    "def ulta_pyramid(rows):\n",
    "    for i in range(rows, 0, -1):\n",
    "        print(' ' * (rows - i) + ' '.join('*' * i))\n",
    "\n",
    "# Example usage:\n",
    "ulta_pyramid(5)\n"
   ]
  },
  {
   "cell_type": "code",
   "execution_count": 44,
   "id": "ec938c1d-8d49-4414-8e17-e17b01255467",
   "metadata": {},
   "outputs": [
    {
     "name": "stdout",
     "output_type": "stream",
     "text": [
      "* * * * * * * * * * * * * *  \n",
      "* * *  \n",
      "* *  \n",
      "*  \n",
      " \n"
     ]
    }
   ],
   "source": [
    "for i in range(1,6):\n",
    "    for i in range(i,5):\n",
    "        print(\"*\",end=\" \")\n",
    "\n",
    "for i in range(6,):\n",
    "    for i in range(i,5):\n",
    "        print(\"*\",end=\" \")\n",
    "\n",
    "\n",
    "    \n",
    "\n",
    "    print(\" \")"
   ]
  },
  {
   "cell_type": "code",
   "execution_count": 1,
   "id": "7ce9af52-53db-4581-b8e6-5cbdb2fff52a",
   "metadata": {},
   "outputs": [],
   "source": [
    "import numpy as np"
   ]
  },
  {
   "cell_type": "code",
   "execution_count": 2,
   "id": "38ff0d02-a0e9-4cdc-9957-6520f0ea1f7c",
   "metadata": {},
   "outputs": [],
   "source": [
    "a=np.array(4)"
   ]
  },
  {
   "cell_type": "code",
   "execution_count": 3,
   "id": "127bfa03-a5d8-4b29-849d-2ef7267a91cd",
   "metadata": {},
   "outputs": [
    {
     "data": {
      "text/plain": [
       "array(4)"
      ]
     },
     "execution_count": 3,
     "metadata": {},
     "output_type": "execute_result"
    }
   ],
   "source": [
    "a"
   ]
  },
  {
   "cell_type": "code",
   "execution_count": 4,
   "id": "928eaa5b-fcd1-4452-ad9b-c681cb578eea",
   "metadata": {},
   "outputs": [
    {
     "data": {
      "text/plain": [
       "0"
      ]
     },
     "execution_count": 4,
     "metadata": {},
     "output_type": "execute_result"
    }
   ],
   "source": [
    "a.ndim"
   ]
  },
  {
   "cell_type": "code",
   "execution_count": 6,
   "id": "33ff316d-0dc8-4f1e-8965-5b7c4ad6e20b",
   "metadata": {},
   "outputs": [],
   "source": [
    "b=np.array([2,5,4])"
   ]
  },
  {
   "cell_type": "code",
   "execution_count": 7,
   "id": "7048fc91-ce5d-4f17-b26d-1ead5591517c",
   "metadata": {},
   "outputs": [
    {
     "data": {
      "text/plain": [
       "array([2, 5, 4])"
      ]
     },
     "execution_count": 7,
     "metadata": {},
     "output_type": "execute_result"
    }
   ],
   "source": [
    "b"
   ]
  },
  {
   "cell_type": "code",
   "execution_count": 8,
   "id": "e74f0901-60b5-495d-a911-d4692176b631",
   "metadata": {},
   "outputs": [
    {
     "data": {
      "text/plain": [
       "1"
      ]
     },
     "execution_count": 8,
     "metadata": {},
     "output_type": "execute_result"
    }
   ],
   "source": [
    "b.ndim"
   ]
  },
  {
   "cell_type": "code",
   "execution_count": 10,
   "id": "82d8d4bf-c09c-42cc-87df-4bdb1a088e07",
   "metadata": {},
   "outputs": [],
   "source": [
    "mat=np.array([[1,2,3],[4,5,6],[7,8,9]])"
   ]
  },
  {
   "cell_type": "code",
   "execution_count": 11,
   "id": "f6c18f78-9556-41b9-b7e4-783bf3f75657",
   "metadata": {},
   "outputs": [
    {
     "data": {
      "text/plain": [
       "array([[1, 2, 3],\n",
       "       [4, 5, 6],\n",
       "       [7, 8, 9]])"
      ]
     },
     "execution_count": 11,
     "metadata": {},
     "output_type": "execute_result"
    }
   ],
   "source": [
    "mat"
   ]
  },
  {
   "cell_type": "markdown",
   "id": "558200a4-eaa2-4c85-94a8-46a94ddb4a5d",
   "metadata": {},
   "source": [
    "mat.ndim"
   ]
  },
  {
   "cell_type": "code",
   "execution_count": 12,
   "id": "4a38aa1e-353c-4b8c-b2f9-8008cef88d5d",
   "metadata": {},
   "outputs": [
    {
     "data": {
      "text/plain": [
       "2"
      ]
     },
     "execution_count": 12,
     "metadata": {},
     "output_type": "execute_result"
    }
   ],
   "source": [
    "mat.ndim"
   ]
  },
  {
   "cell_type": "code",
   "execution_count": 1,
   "id": "2fbb04fc-b460-4297-8690-920d7e529d96",
   "metadata": {},
   "outputs": [
    {
     "name": "stdout",
     "output_type": "stream",
     "text": [
      "254\n"
     ]
    }
   ],
   "source": [
    "print(254)"
   ]
  },
  {
   "cell_type": "code",
   "execution_count": 25,
   "id": "fcb0112f-6958-4948-be00-45f5e9bb682e",
   "metadata": {},
   "outputs": [
    {
     "name": "stdout",
     "output_type": "stream",
     "text": [
      "A B C D \n",
      "\n",
      "E F G \n",
      "\n",
      "H I \n",
      "\n",
      "J \n",
      "\n"
     ]
    }
   ],
   "source": [
    "def pattern(n):\n",
    "\n",
    "    \n",
    "    x=65\n",
    "    for i in range(1,n):\n",
    "        for k in range(i,n):\n",
    "            print(chr(x),end=\" \")\n",
    "            x=x+1\n",
    "            \n",
    "    \n",
    "        print(\"\\n\")\n",
    "\n",
    "pattern(5)"
   ]
  },
  {
   "cell_type": "code",
   "execution_count": 35,
   "id": "6670c24b-33b1-45de-b479-a4cd6d6c4716",
   "metadata": {},
   "outputs": [
    {
     "name": "stdin",
     "output_type": "stream",
     "text": [
      " 5\n",
      " 6\n"
     ]
    },
    {
     "name": "stdout",
     "output_type": "stream",
     "text": [
      "lcm is : 30\n"
     ]
    }
   ],
   "source": [
    "# lcm\n",
    "x=int(input())\n",
    "y=int(input())\n",
    "def lcm(x,y):\n",
    "    if (x>y):\n",
    "        big=x\n",
    "    else:\n",
    "        big=y\n",
    "    \n",
    "    while(True):\n",
    "        if(big%x==0 and big%y==0):\n",
    "            print(\"lcm is :\",big)\n",
    "            break;\n",
    "        big=big+1\n",
    "\n",
    "lcm(x,y)\n",
    "    \n"
   ]
  },
  {
   "cell_type": "code",
   "execution_count": 45,
   "id": "7f47b18a-fd02-4cd9-8221-5dc063ff3bd2",
   "metadata": {},
   "outputs": [
    {
     "name": "stdin",
     "output_type": "stream",
     "text": [
      " 25\n",
      " 75\n"
     ]
    },
    {
     "name": "stdout",
     "output_type": "stream",
     "text": [
      "lcm is : 25\n"
     ]
    }
   ],
   "source": [
    "# hcf\n",
    "x=int(input())\n",
    "y=int(input())\n",
    "def hcf(x,y):\n",
    "    if (x>y):\n",
    "        big=x\n",
    "    else:\n",
    "        big=y\n",
    "    for i in range(2,big+1):\n",
    "        if(x%i==0 and y%i==0):\n",
    "            hcf=i\n",
    "    print(\"lcm is :\",hcf)\n",
    "\n",
    "hcf(x,y)\n",
    "\n"
   ]
  },
  {
   "cell_type": "code",
   "execution_count": 49,
   "id": "8af89258-c6ea-4e59-b813-7995a15411a7",
   "metadata": {},
   "outputs": [
    {
     "data": {
      "text/plain": [
       "200"
      ]
     },
     "execution_count": 49,
     "metadata": {},
     "output_type": "execute_result"
    }
   ],
   "source": [
    "# deafult perameter\n",
    "\n",
    "def abc(x,y=10):\n",
    "    return x*y\n",
    "\n",
    "abc(20)"
   ]
  },
  {
   "cell_type": "code",
   "execution_count": 51,
   "id": "061df422-9337-45d8-8503-c0beca272eea",
   "metadata": {},
   "outputs": [
    {
     "name": "stdout",
     "output_type": "stream",
     "text": [
      "5\n",
      "8\n"
     ]
    }
   ],
   "source": [
    "\n",
    "city=[\"jaipur\",\"goa\",\"ajmer\",\"sikar\",\"delhi\"]\n",
    "marks=[25,65,25,21,656,2151,124,12564]\n",
    "\n",
    "def lenlist(list):\n",
    "    print(len(list))\n",
    "\n",
    "lenlist(city)\n",
    "lenlist(marks)\n"
   ]
  },
  {
   "cell_type": "code",
   "execution_count": 55,
   "id": "b2423d33-447f-45cd-875d-90143dc603c9",
   "metadata": {},
   "outputs": [
    {
     "name": "stdout",
     "output_type": "stream",
     "text": [
      "jaipur goa ajmer sikar delhi "
     ]
    }
   ],
   "source": [
    "\n",
    "city=[\"jaipur\",\"goa\",\"ajmer\",\"sikar\",\"delhi\"]\n",
    "marks=[25,65,25,21,656,2151,124,12564]\n",
    "def fun(x):\n",
    "    y=len(x)\n",
    "    for i in range(0,y):\n",
    "        print(x[i],end=\" \")\n",
    "\n",
    "fun(city)"
   ]
  },
  {
   "cell_type": "code",
   "execution_count": 59,
   "id": "da0bee30-a699-49f9-934d-f942d4b72590",
   "metadata": {},
   "outputs": [
    {
     "name": "stdout",
     "output_type": "stream",
     "text": [
      "720\n"
     ]
    }
   ],
   "source": [
    "def fact(n):\n",
    "    x=1\n",
    "    for i in range(1,n+1):\n",
    "        x=x*i\n",
    "    print(x)\n",
    "\n",
    "fact(6)"
   ]
  },
  {
   "cell_type": "code",
   "execution_count": 68,
   "id": "07bf3ab5-4ad5-4840-a74d-f1d7dc5ea53e",
   "metadata": {},
   "outputs": [
    {
     "name": "stdout",
     "output_type": "stream",
     "text": [
      "2 rs: 166 dollar\n"
     ]
    }
   ],
   "source": [
    "def con(x):\n",
    "    c=x*83\n",
    "    print(x ,\"rs:\",c,\"dollar\")\n",
    "\n",
    "con(2)"
   ]
  },
  {
   "cell_type": "code",
   "execution_count": 74,
   "id": "b5335c27-9678-4837-96f9-a01e951f6319",
   "metadata": {},
   "outputs": [
    {
     "name": "stdout",
     "output_type": "stream",
     "text": [
      "EID :25 \n",
      "name : rahul \n",
      "salary2500000\n"
     ]
    }
   ],
   "source": [
    " # types of argumnet\n",
    "def em(id,name,salary):\n",
    "    print(f\"EID :{id} \\nname : {name} \\nsalary{salary}\")\n",
    "\n",
    "em(25,\"rahul\",2500000)"
   ]
  },
  {
   "cell_type": "code",
   "execution_count": 78,
   "id": "cd9b2f28-07e1-45a1-b621-f0274f8d98ed",
   "metadata": {},
   "outputs": [
    {
     "name": "stdout",
     "output_type": "stream",
     "text": [
      "EID :25 \n",
      "name : 2500000 \n",
      "salaryrahul\n"
     ]
    }
   ],
   "source": [
    " # types of argumnet\n",
    "def em(id,name,salary):\n",
    "    print(f\"EID :{id} \\nname : {name} \\nsalary{salary}\")\n",
    "\n",
    "em(25,2500000,\"rahul\")"
   ]
  },
  {
   "cell_type": "code",
   "execution_count": 86,
   "id": "c8692d5c-a6bd-4fa0-834f-72b02113231b",
   "metadata": {},
   "outputs": [
    {
     "name": "stdout",
     "output_type": "stream",
     "text": [
      "EID :25 \n",
      "name : 2500000 \n",
      "salary: rahul\n"
     ]
    }
   ],
   "source": [
    "# key word and positional argument \n",
    "\n",
    " # types of argumnet\n",
    "def em(id,name,salary):\n",
    "    print(f\"EID :{id} \\nname : {name} \\nsalary{salary}\")\n",
    "\n",
    "em(25,salary=\": rahul\",name=2500000)"
   ]
  },
  {
   "cell_type": "code",
   "execution_count": 92,
   "id": "03befd29-faa7-4dfd-92e5-0c6bd3ecea11",
   "metadata": {},
   "outputs": [
    {
     "name": "stdout",
     "output_type": "stream",
     "text": [
      "EID :25 \n",
      "name : rahuj \n",
      "salary154688657496874\n"
     ]
    }
   ],
   "source": [
    "# deafult argument \n",
    "\n",
    " # types of argumnet\n",
    "def em(id,name=\"rahuj\",salary=154688657496874):\n",
    "    print(f\"EID :{id} \\nname : {name} \\nsalary{salary}\")\n",
    "\n",
    "em(25)"
   ]
  },
  {
   "cell_type": "code",
   "execution_count": 94,
   "id": "f5e70a10-e932-47fb-9757-ddecf730d631",
   "metadata": {},
   "outputs": [
    {
     "name": "stdout",
     "output_type": "stream",
     "text": [
      "{'name': 'rahul', 'id': 105, 'x': 'hey '} <class 'dict'>\n",
      "{'name': 'jatin', 'y': 'hello'} <class 'dict'>\n",
      "{} <class 'dict'>\n"
     ]
    }
   ],
   "source": [
    "# variable length argu,mnet \n",
    "\n",
    "def facebook(**data):\n",
    "    print(data,type(data))\n",
    "\n",
    "facebook(name=\"rahul\",id=105,x=\"hey \")\n",
    "facebook(name=\"jatin\",y=\"hello\")\n",
    "facebook()"
   ]
  },
  {
   "cell_type": "code",
   "execution_count": null,
   "id": "2dca601f-5612-4657-90ba-cf8bece2a3de",
   "metadata": {},
   "outputs": [],
   "source": [
    "def facebook(*data):\n",
    "    print(data,type(data))\n",
    "facebook(\"rahu"
   ]
  }
 ],
 "metadata": {
  "kernelspec": {
   "display_name": "Python 3 (ipykernel)",
   "language": "python",
   "name": "python3"
  },
  "language_info": {
   "codemirror_mode": {
    "name": "ipython",
    "version": 3
   },
   "file_extension": ".py",
   "mimetype": "text/x-python",
   "name": "python",
   "nbconvert_exporter": "python",
   "pygments_lexer": "ipython3",
   "version": "3.12.4"
  }
 },
 "nbformat": 4,
 "nbformat_minor": 5
}
